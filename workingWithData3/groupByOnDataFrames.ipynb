{
 "cells": [
  {
   "cell_type": "code",
   "execution_count": 1,
   "id": "f1f86402-765f-492c-ba5e-bcbf63971b6f",
   "metadata": {},
   "outputs": [],
   "source": [
    "import numpy as np\n",
    "import pandas as pandas\n",
    "from pandas import Series, DataFrame"
   ]
  },
  {
   "cell_type": "code",
   "execution_count": 5,
   "id": "ed9ff4a8-cb85-4841-9dd1-e23e876d1103",
   "metadata": {},
   "outputs": [
    {
     "data": {
      "text/html": [
       "<div>\n",
       "<style scoped>\n",
       "    .dataframe tbody tr th:only-of-type {\n",
       "        vertical-align: middle;\n",
       "    }\n",
       "\n",
       "    .dataframe tbody tr th {\n",
       "        vertical-align: top;\n",
       "    }\n",
       "\n",
       "    .dataframe thead th {\n",
       "        text-align: right;\n",
       "    }\n",
       "</style>\n",
       "<table border=\"1\" class=\"dataframe\">\n",
       "  <thead>\n",
       "    <tr style=\"text-align: right;\">\n",
       "      <th></th>\n",
       "      <th>k1</th>\n",
       "      <th>k2</th>\n",
       "      <th>dataset1</th>\n",
       "      <th>dataset2</th>\n",
       "    </tr>\n",
       "  </thead>\n",
       "  <tbody>\n",
       "    <tr>\n",
       "      <th>0</th>\n",
       "      <td>X</td>\n",
       "      <td>alpha</td>\n",
       "      <td>0.569962</td>\n",
       "      <td>-0.970583</td>\n",
       "    </tr>\n",
       "    <tr>\n",
       "      <th>1</th>\n",
       "      <td>X</td>\n",
       "      <td>beta</td>\n",
       "      <td>2.466095</td>\n",
       "      <td>0.810413</td>\n",
       "    </tr>\n",
       "    <tr>\n",
       "      <th>2</th>\n",
       "      <td>Y</td>\n",
       "      <td>alpha</td>\n",
       "      <td>-0.054280</td>\n",
       "      <td>-0.239832</td>\n",
       "    </tr>\n",
       "    <tr>\n",
       "      <th>3</th>\n",
       "      <td>Y</td>\n",
       "      <td>beta</td>\n",
       "      <td>0.303202</td>\n",
       "      <td>-1.576611</td>\n",
       "    </tr>\n",
       "    <tr>\n",
       "      <th>4</th>\n",
       "      <td>Z</td>\n",
       "      <td>alpha</td>\n",
       "      <td>-1.281104</td>\n",
       "      <td>0.022580</td>\n",
       "    </tr>\n",
       "  </tbody>\n",
       "</table>\n",
       "</div>"
      ],
      "text/plain": [
       "  k1     k2  dataset1  dataset2\n",
       "0  X  alpha  0.569962 -0.970583\n",
       "1  X   beta  2.466095  0.810413\n",
       "2  Y  alpha -0.054280 -0.239832\n",
       "3  Y   beta  0.303202 -1.576611\n",
       "4  Z  alpha -1.281104  0.022580"
      ]
     },
     "execution_count": 5,
     "metadata": {},
     "output_type": "execute_result"
    }
   ],
   "source": [
    "dframe1 = DataFrame({\"k1\" : [\"X\", \"X\", \"Y\", \"Y\", \"Z\"],\n",
    "                    \"k2\" : [\"alpha\", \"beta\", \"alpha\", \"beta\", \"alpha\"],\n",
    "                    \"dataset1\" : np.random.randn(5),\n",
    "                    \"dataset2\" : np.random.randn(5)})\n",
    "dframe1"
   ]
  },
  {
   "cell_type": "code",
   "execution_count": 11,
   "id": "ea2bbfe9-e433-4043-b652-ff0a1b587f95",
   "metadata": {},
   "outputs": [
    {
     "data": {
      "text/plain": [
       "<pandas.core.groupby.generic.SeriesGroupBy object at 0x000001C966C917F0>"
      ]
     },
     "execution_count": 11,
     "metadata": {},
     "output_type": "execute_result"
    }
   ],
   "source": [
    "# series group by data object\n",
    "group1 = dframe1[\"dataset1\"].groupby(dframe1[\"k1\"])\n",
    "group1"
   ]
  },
  {
   "cell_type": "code",
   "execution_count": 13,
   "id": "da78df20-85ab-43c0-82bf-34c6f2729fd2",
   "metadata": {},
   "outputs": [
    {
     "data": {
      "text/plain": [
       "k1\n",
       "X    1.518029\n",
       "Y    0.124461\n",
       "Z   -1.281104\n",
       "Name: dataset1, dtype: float64"
      ]
     },
     "execution_count": 13,
     "metadata": {},
     "output_type": "execute_result"
    }
   ],
   "source": [
    "group1.mean()"
   ]
  },
  {
   "cell_type": "code",
   "execution_count": 17,
   "id": "cc17c725-d7cd-4aa1-a0e1-4e3e66965ef4",
   "metadata": {},
   "outputs": [],
   "source": [
    "cities = np.array([\"NY\", \"LA\", \"LA\", \"NY\", \"NY\"])\n",
    "\n",
    "month = np.array([\"JAN\", \"FEB\", \"JAN\", \"FEB\", \"JAN\"])"
   ]
  },
  {
   "cell_type": "code",
   "execution_count": 21,
   "id": "8dbf4551-fa9d-4920-a048-fcfbbe9adca2",
   "metadata": {},
   "outputs": [
    {
     "data": {
      "text/plain": [
       "LA  FEB    2.466095\n",
       "    JAN   -0.054280\n",
       "NY  FEB    0.303202\n",
       "    JAN   -0.355571\n",
       "Name: dataset1, dtype: float64"
      ]
     },
     "execution_count": 21,
     "metadata": {},
     "output_type": "execute_result"
    }
   ],
   "source": [
    "dframe1[\"dataset1\"].groupby([cities, month]).mean()"
   ]
  },
  {
   "cell_type": "code",
   "execution_count": 23,
   "id": "c614f257-0681-4534-82b1-796d3b0468f6",
   "metadata": {},
   "outputs": [
    {
     "data": {
      "text/html": [
       "<div>\n",
       "<style scoped>\n",
       "    .dataframe tbody tr th:only-of-type {\n",
       "        vertical-align: middle;\n",
       "    }\n",
       "\n",
       "    .dataframe tbody tr th {\n",
       "        vertical-align: top;\n",
       "    }\n",
       "\n",
       "    .dataframe thead th {\n",
       "        text-align: right;\n",
       "    }\n",
       "</style>\n",
       "<table border=\"1\" class=\"dataframe\">\n",
       "  <thead>\n",
       "    <tr style=\"text-align: right;\">\n",
       "      <th></th>\n",
       "      <th>k1</th>\n",
       "      <th>k2</th>\n",
       "      <th>dataset1</th>\n",
       "      <th>dataset2</th>\n",
       "    </tr>\n",
       "  </thead>\n",
       "  <tbody>\n",
       "    <tr>\n",
       "      <th>0</th>\n",
       "      <td>X</td>\n",
       "      <td>alpha</td>\n",
       "      <td>0.569962</td>\n",
       "      <td>-0.970583</td>\n",
       "    </tr>\n",
       "    <tr>\n",
       "      <th>1</th>\n",
       "      <td>X</td>\n",
       "      <td>beta</td>\n",
       "      <td>2.466095</td>\n",
       "      <td>0.810413</td>\n",
       "    </tr>\n",
       "    <tr>\n",
       "      <th>2</th>\n",
       "      <td>Y</td>\n",
       "      <td>alpha</td>\n",
       "      <td>-0.054280</td>\n",
       "      <td>-0.239832</td>\n",
       "    </tr>\n",
       "    <tr>\n",
       "      <th>3</th>\n",
       "      <td>Y</td>\n",
       "      <td>beta</td>\n",
       "      <td>0.303202</td>\n",
       "      <td>-1.576611</td>\n",
       "    </tr>\n",
       "    <tr>\n",
       "      <th>4</th>\n",
       "      <td>Z</td>\n",
       "      <td>alpha</td>\n",
       "      <td>-1.281104</td>\n",
       "      <td>0.022580</td>\n",
       "    </tr>\n",
       "  </tbody>\n",
       "</table>\n",
       "</div>"
      ],
      "text/plain": [
       "  k1     k2  dataset1  dataset2\n",
       "0  X  alpha  0.569962 -0.970583\n",
       "1  X   beta  2.466095  0.810413\n",
       "2  Y  alpha -0.054280 -0.239832\n",
       "3  Y   beta  0.303202 -1.576611\n",
       "4  Z  alpha -1.281104  0.022580"
      ]
     },
     "execution_count": 23,
     "metadata": {},
     "output_type": "execute_result"
    }
   ],
   "source": [
    "dframe1"
   ]
  },
  {
   "cell_type": "code",
   "execution_count": 31,
   "id": "2907bc46-103c-41e9-8182-6c7c3c6ad20e",
   "metadata": {},
   "outputs": [
    {
     "data": {
      "text/html": [
       "<div>\n",
       "<style scoped>\n",
       "    .dataframe tbody tr th:only-of-type {\n",
       "        vertical-align: middle;\n",
       "    }\n",
       "\n",
       "    .dataframe tbody tr th {\n",
       "        vertical-align: top;\n",
       "    }\n",
       "\n",
       "    .dataframe thead th {\n",
       "        text-align: right;\n",
       "    }\n",
       "</style>\n",
       "<table border=\"1\" class=\"dataframe\">\n",
       "  <thead>\n",
       "    <tr style=\"text-align: right;\">\n",
       "      <th></th>\n",
       "      <th>dataset1</th>\n",
       "      <th>dataset2</th>\n",
       "    </tr>\n",
       "    <tr>\n",
       "      <th>k1</th>\n",
       "      <th></th>\n",
       "      <th></th>\n",
       "    </tr>\n",
       "  </thead>\n",
       "  <tbody>\n",
       "    <tr>\n",
       "      <th>X</th>\n",
       "      <td>1.518029</td>\n",
       "      <td>-0.080085</td>\n",
       "    </tr>\n",
       "    <tr>\n",
       "      <th>Y</th>\n",
       "      <td>0.124461</td>\n",
       "      <td>-0.908221</td>\n",
       "    </tr>\n",
       "    <tr>\n",
       "      <th>Z</th>\n",
       "      <td>-1.281104</td>\n",
       "      <td>0.022580</td>\n",
       "    </tr>\n",
       "  </tbody>\n",
       "</table>\n",
       "</div>"
      ],
      "text/plain": [
       "    dataset1  dataset2\n",
       "k1                    \n",
       "X   1.518029 -0.080085\n",
       "Y   0.124461 -0.908221\n",
       "Z  -1.281104  0.022580"
      ]
     },
     "execution_count": 31,
     "metadata": {},
     "output_type": "execute_result"
    }
   ],
   "source": [
    "# avg of x vals, y vals, z vals --- group by k1 elements, then avg\n",
    "dframe1.groupby(\"k1\").mean(numeric_only = True)"
   ]
  },
  {
   "cell_type": "code",
   "execution_count": 33,
   "id": "35745423-e8a3-4f61-936c-a0fb5cabc493",
   "metadata": {},
   "outputs": [
    {
     "data": {
      "text/html": [
       "<div>\n",
       "<style scoped>\n",
       "    .dataframe tbody tr th:only-of-type {\n",
       "        vertical-align: middle;\n",
       "    }\n",
       "\n",
       "    .dataframe tbody tr th {\n",
       "        vertical-align: top;\n",
       "    }\n",
       "\n",
       "    .dataframe thead th {\n",
       "        text-align: right;\n",
       "    }\n",
       "</style>\n",
       "<table border=\"1\" class=\"dataframe\">\n",
       "  <thead>\n",
       "    <tr style=\"text-align: right;\">\n",
       "      <th></th>\n",
       "      <th></th>\n",
       "      <th>dataset1</th>\n",
       "      <th>dataset2</th>\n",
       "    </tr>\n",
       "    <tr>\n",
       "      <th>k1</th>\n",
       "      <th>k2</th>\n",
       "      <th></th>\n",
       "      <th></th>\n",
       "    </tr>\n",
       "  </thead>\n",
       "  <tbody>\n",
       "    <tr>\n",
       "      <th rowspan=\"2\" valign=\"top\">X</th>\n",
       "      <th>alpha</th>\n",
       "      <td>0.569962</td>\n",
       "      <td>-0.970583</td>\n",
       "    </tr>\n",
       "    <tr>\n",
       "      <th>beta</th>\n",
       "      <td>2.466095</td>\n",
       "      <td>0.810413</td>\n",
       "    </tr>\n",
       "    <tr>\n",
       "      <th rowspan=\"2\" valign=\"top\">Y</th>\n",
       "      <th>alpha</th>\n",
       "      <td>-0.054280</td>\n",
       "      <td>-0.239832</td>\n",
       "    </tr>\n",
       "    <tr>\n",
       "      <th>beta</th>\n",
       "      <td>0.303202</td>\n",
       "      <td>-1.576611</td>\n",
       "    </tr>\n",
       "    <tr>\n",
       "      <th>Z</th>\n",
       "      <th>alpha</th>\n",
       "      <td>-1.281104</td>\n",
       "      <td>0.022580</td>\n",
       "    </tr>\n",
       "  </tbody>\n",
       "</table>\n",
       "</div>"
      ],
      "text/plain": [
       "          dataset1  dataset2\n",
       "k1 k2                       \n",
       "X  alpha  0.569962 -0.970583\n",
       "   beta   2.466095  0.810413\n",
       "Y  alpha -0.054280 -0.239832\n",
       "   beta   0.303202 -1.576611\n",
       "Z  alpha -1.281104  0.022580"
      ]
     },
     "execution_count": 33,
     "metadata": {},
     "output_type": "execute_result"
    }
   ],
   "source": [
    "dframe1.groupby([\"k1\", \"k2\"]).mean(numeric_only = True)"
   ]
  },
  {
   "cell_type": "code",
   "execution_count": 37,
   "id": "0d6d5071-f06f-4f23-b859-500ca6928ec2",
   "metadata": {},
   "outputs": [
    {
     "data": {
      "text/plain": [
       "k1\n",
       "X    2\n",
       "Y    2\n",
       "Z    1\n",
       "dtype: int64"
      ]
     },
     "execution_count": 37,
     "metadata": {},
     "output_type": "execute_result"
    }
   ],
   "source": [
    "# number of entries in column by 'key'\n",
    "dframe1.groupby(\"k1\").size()"
   ]
  },
  {
   "cell_type": "code",
   "execution_count": 41,
   "id": "f0bc86a5-dc07-48d7-8646-4a7ad889547d",
   "metadata": {},
   "outputs": [
    {
     "name": "stdout",
     "output_type": "stream",
     "text": [
      "This is the X group\n",
      "  k1     k2  dataset1  dataset2\n",
      "0  X  alpha  0.569962 -0.970583\n",
      "1  X   beta  2.466095  0.810413\n",
      "\n",
      "\n",
      "This is the Y group\n",
      "  k1     k2  dataset1  dataset2\n",
      "2  Y  alpha -0.054280 -0.239832\n",
      "3  Y   beta  0.303202 -1.576611\n",
      "\n",
      "\n",
      "This is the Z group\n",
      "  k1     k2  dataset1  dataset2\n",
      "4  Z  alpha -1.281104   0.02258\n",
      "\n",
      "\n"
     ]
    }
   ],
   "source": [
    "# iterate over groups\n",
    "for name, group in dframe1.groupby(\"k1\"):\n",
    "    print(\"This is the %s group\" %name)\n",
    "    print(group)\n",
    "    print(\"\\n\")"
   ]
  },
  {
   "cell_type": "code",
   "execution_count": 55,
   "id": "d72588fb-44ae-41d8-b791-3944e2c079f4",
   "metadata": {},
   "outputs": [
    {
     "data": {
      "text/html": [
       "<div>\n",
       "<style scoped>\n",
       "    .dataframe tbody tr th:only-of-type {\n",
       "        vertical-align: middle;\n",
       "    }\n",
       "\n",
       "    .dataframe tbody tr th {\n",
       "        vertical-align: top;\n",
       "    }\n",
       "\n",
       "    .dataframe thead th {\n",
       "        text-align: right;\n",
       "    }\n",
       "</style>\n",
       "<table border=\"1\" class=\"dataframe\">\n",
       "  <thead>\n",
       "    <tr style=\"text-align: right;\">\n",
       "      <th></th>\n",
       "      <th>k1</th>\n",
       "      <th>k2</th>\n",
       "      <th>dataset1</th>\n",
       "      <th>dataset2</th>\n",
       "    </tr>\n",
       "  </thead>\n",
       "  <tbody>\n",
       "    <tr>\n",
       "      <th>0</th>\n",
       "      <td>X</td>\n",
       "      <td>alpha</td>\n",
       "      <td>0.569962</td>\n",
       "      <td>-0.970583</td>\n",
       "    </tr>\n",
       "    <tr>\n",
       "      <th>1</th>\n",
       "      <td>X</td>\n",
       "      <td>beta</td>\n",
       "      <td>2.466095</td>\n",
       "      <td>0.810413</td>\n",
       "    </tr>\n",
       "    <tr>\n",
       "      <th>2</th>\n",
       "      <td>Y</td>\n",
       "      <td>alpha</td>\n",
       "      <td>-0.054280</td>\n",
       "      <td>-0.239832</td>\n",
       "    </tr>\n",
       "    <tr>\n",
       "      <th>3</th>\n",
       "      <td>Y</td>\n",
       "      <td>beta</td>\n",
       "      <td>0.303202</td>\n",
       "      <td>-1.576611</td>\n",
       "    </tr>\n",
       "    <tr>\n",
       "      <th>4</th>\n",
       "      <td>Z</td>\n",
       "      <td>alpha</td>\n",
       "      <td>-1.281104</td>\n",
       "      <td>0.022580</td>\n",
       "    </tr>\n",
       "  </tbody>\n",
       "</table>\n",
       "</div>"
      ],
      "text/plain": [
       "  k1     k2  dataset1  dataset2\n",
       "0  X  alpha  0.569962 -0.970583\n",
       "1  X   beta  2.466095  0.810413\n",
       "2  Y  alpha -0.054280 -0.239832\n",
       "3  Y   beta  0.303202 -1.576611\n",
       "4  Z  alpha -1.281104  0.022580"
      ]
     },
     "execution_count": 55,
     "metadata": {},
     "output_type": "execute_result"
    }
   ],
   "source": [
    "dframe1"
   ]
  },
  {
   "cell_type": "code",
   "execution_count": 57,
   "id": "668b26bf-47fd-4c7f-8d4f-dffd1bf99a66",
   "metadata": {},
   "outputs": [
    {
     "name": "stdout",
     "output_type": "stream",
     "text": [
      "Key 1 = X Key = 2 alpha\n",
      "  k1     k2  dataset1  dataset2\n",
      "0  X  alpha  0.569962 -0.970583\n",
      "\n",
      "\n",
      "Key 1 = X Key = 2 beta\n",
      "  k1    k2  dataset1  dataset2\n",
      "1  X  beta  2.466095  0.810413\n",
      "\n",
      "\n",
      "Key 1 = Y Key = 2 alpha\n",
      "  k1     k2  dataset1  dataset2\n",
      "2  Y  alpha  -0.05428 -0.239832\n",
      "\n",
      "\n",
      "Key 1 = Y Key = 2 beta\n",
      "  k1    k2  dataset1  dataset2\n",
      "3  Y  beta  0.303202 -1.576611\n",
      "\n",
      "\n",
      "Key 1 = Z Key = 2 alpha\n",
      "  k1     k2  dataset1  dataset2\n",
      "4  Z  alpha -1.281104   0.02258\n",
      "\n",
      "\n"
     ]
    }
   ],
   "source": [
    "# iterate group by multiple columns --- for k1, k2, and group do prints\n",
    "for (k1, k2), group in dframe1.groupby([\"k1\", \"k2\"]):\n",
    "    print(\"Key 1 = %s Key = 2 %s\" %(k1, k2))\n",
    "    print(group)\n",
    "    print(\"\\n\")"
   ]
  },
  {
   "cell_type": "code",
   "execution_count": 59,
   "id": "27289e6c-6ce2-4b80-af5c-8006f4dbe21e",
   "metadata": {},
   "outputs": [],
   "source": [
    "# create dict based on group by\n",
    "group_dict = dict(list(dframe1.groupby(\"k1\")))"
   ]
  },
  {
   "cell_type": "code",
   "execution_count": 61,
   "id": "37cd17a4-d16f-4681-9940-5114ee56987a",
   "metadata": {},
   "outputs": [
    {
     "data": {
      "text/html": [
       "<div>\n",
       "<style scoped>\n",
       "    .dataframe tbody tr th:only-of-type {\n",
       "        vertical-align: middle;\n",
       "    }\n",
       "\n",
       "    .dataframe tbody tr th {\n",
       "        vertical-align: top;\n",
       "    }\n",
       "\n",
       "    .dataframe thead th {\n",
       "        text-align: right;\n",
       "    }\n",
       "</style>\n",
       "<table border=\"1\" class=\"dataframe\">\n",
       "  <thead>\n",
       "    <tr style=\"text-align: right;\">\n",
       "      <th></th>\n",
       "      <th>k1</th>\n",
       "      <th>k2</th>\n",
       "      <th>dataset1</th>\n",
       "      <th>dataset2</th>\n",
       "    </tr>\n",
       "  </thead>\n",
       "  <tbody>\n",
       "    <tr>\n",
       "      <th>0</th>\n",
       "      <td>X</td>\n",
       "      <td>alpha</td>\n",
       "      <td>0.569962</td>\n",
       "      <td>-0.970583</td>\n",
       "    </tr>\n",
       "    <tr>\n",
       "      <th>1</th>\n",
       "      <td>X</td>\n",
       "      <td>beta</td>\n",
       "      <td>2.466095</td>\n",
       "      <td>0.810413</td>\n",
       "    </tr>\n",
       "  </tbody>\n",
       "</table>\n",
       "</div>"
      ],
      "text/plain": [
       "  k1     k2  dataset1  dataset2\n",
       "0  X  alpha  0.569962 -0.970583\n",
       "1  X   beta  2.466095  0.810413"
      ]
     },
     "execution_count": 61,
     "metadata": {},
     "output_type": "execute_result"
    }
   ],
   "source": [
    "group_dict[\"X\"]"
   ]
  },
  {
   "cell_type": "code",
   "execution_count": 75,
   "id": "45c3377f-aadb-4b3e-b829-dded3974acb6",
   "metadata": {},
   "outputs": [
    {
     "data": {
      "text/plain": [
       "{dtype('float64'):                  0         1         2         3         4\n",
       " dataset1  0.569962  2.466095  -0.05428  0.303202 -1.281104\n",
       " dataset2 -0.970583  0.810413 -0.239832 -1.576611   0.02258,\n",
       " dtype('O'):         0     1      2     3      4\n",
       " k1      X     X      Y     Y      Z\n",
       " k2  alpha  beta  alpha  beta  alpha}"
      ]
     },
     "execution_count": 75,
     "metadata": {},
     "output_type": "execute_result"
    }
   ],
   "source": [
    "# makes a dict and divides into different dtypes --- float and str as keys\n",
    "group_dict_axis1 = dict(list(dframe1.T.groupby(dframe1.dtypes)))\n",
    "group_dict_axis1"
   ]
  },
  {
   "cell_type": "code",
   "execution_count": 81,
   "id": "cc2fa71f-d522-4750-9c46-3cfceba21e38",
   "metadata": {},
   "outputs": [
    {
     "data": {
      "text/html": [
       "<div>\n",
       "<style scoped>\n",
       "    .dataframe tbody tr th:only-of-type {\n",
       "        vertical-align: middle;\n",
       "    }\n",
       "\n",
       "    .dataframe tbody tr th {\n",
       "        vertical-align: top;\n",
       "    }\n",
       "\n",
       "    .dataframe thead th {\n",
       "        text-align: right;\n",
       "    }\n",
       "</style>\n",
       "<table border=\"1\" class=\"dataframe\">\n",
       "  <thead>\n",
       "    <tr style=\"text-align: right;\">\n",
       "      <th></th>\n",
       "      <th></th>\n",
       "      <th>dataset2</th>\n",
       "    </tr>\n",
       "    <tr>\n",
       "      <th>k1</th>\n",
       "      <th>k2</th>\n",
       "      <th></th>\n",
       "    </tr>\n",
       "  </thead>\n",
       "  <tbody>\n",
       "    <tr>\n",
       "      <th rowspan=\"2\" valign=\"top\">X</th>\n",
       "      <th>alpha</th>\n",
       "      <td>-0.970583</td>\n",
       "    </tr>\n",
       "    <tr>\n",
       "      <th>beta</th>\n",
       "      <td>0.810413</td>\n",
       "    </tr>\n",
       "    <tr>\n",
       "      <th rowspan=\"2\" valign=\"top\">Y</th>\n",
       "      <th>alpha</th>\n",
       "      <td>-0.239832</td>\n",
       "    </tr>\n",
       "    <tr>\n",
       "      <th>beta</th>\n",
       "      <td>-1.576611</td>\n",
       "    </tr>\n",
       "    <tr>\n",
       "      <th>Z</th>\n",
       "      <th>alpha</th>\n",
       "      <td>0.022580</td>\n",
       "    </tr>\n",
       "  </tbody>\n",
       "</table>\n",
       "</div>"
      ],
      "text/plain": [
       "          dataset2\n",
       "k1 k2             \n",
       "X  alpha -0.970583\n",
       "   beta   0.810413\n",
       "Y  alpha -0.239832\n",
       "   beta  -1.576611\n",
       "Z  alpha  0.022580"
      ]
     },
     "execution_count": 81,
     "metadata": {},
     "output_type": "execute_result"
    }
   ],
   "source": [
    "# group by with columns\n",
    "# look at dataset2, group by k1, k2\n",
    "# avg based on group...X and alpha, X and beta, Y and alpha, Y and beta, Z and alpha\n",
    "dataset_2_group = dframe1.groupby([\"k1\", \"k2\"])[[\"dataset2\"]]\n",
    "dataset_2_group.mean()"
   ]
  }
 ],
 "metadata": {
  "kernelspec": {
   "display_name": "Python [conda env:base] *",
   "language": "python",
   "name": "conda-base-py"
  },
  "language_info": {
   "codemirror_mode": {
    "name": "ipython",
    "version": 3
   },
   "file_extension": ".py",
   "mimetype": "text/x-python",
   "name": "python",
   "nbconvert_exporter": "python",
   "pygments_lexer": "ipython3",
   "version": "3.12.7"
  }
 },
 "nbformat": 4,
 "nbformat_minor": 5
}
