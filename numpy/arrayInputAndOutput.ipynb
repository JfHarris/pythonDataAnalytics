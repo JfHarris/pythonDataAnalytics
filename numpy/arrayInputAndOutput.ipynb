{
 "cells": [
  {
   "cell_type": "code",
   "execution_count": 1,
   "id": "0861c196-00ad-4910-90c3-f0fc1074b276",
   "metadata": {},
   "outputs": [],
   "source": [
    "import numpy as np"
   ]
  },
  {
   "cell_type": "code",
   "execution_count": 5,
   "id": "f25d46dd-b221-4a9f-b406-0e130a1fa917",
   "metadata": {},
   "outputs": [
    {
     "data": {
      "text/plain": [
       "array([0, 1, 2, 3, 4])"
      ]
     },
     "execution_count": 5,
     "metadata": {},
     "output_type": "execute_result"
    }
   ],
   "source": [
    "arr = np.arange(5)\n",
    "arr"
   ]
  },
  {
   "cell_type": "code",
   "execution_count": 7,
   "id": "e6541f72-42f4-4e9b-ab30-5618b08ef6e4",
   "metadata": {},
   "outputs": [],
   "source": [
    "np.save('myArray', arr)"
   ]
  },
  {
   "cell_type": "code",
   "execution_count": 11,
   "id": "9bd4ee42-d05f-4950-8dee-4c728aff5172",
   "metadata": {},
   "outputs": [
    {
     "data": {
      "text/plain": [
       "array([0, 1, 2, 3, 4, 5, 6, 7, 8, 9])"
      ]
     },
     "execution_count": 11,
     "metadata": {},
     "output_type": "execute_result"
    }
   ],
   "source": [
    "arr = np.arange(10)\n",
    "arr"
   ]
  },
  {
   "cell_type": "code",
   "execution_count": 15,
   "id": "aa4f46e3-9a13-4e82-af0a-55ff602cc305",
   "metadata": {},
   "outputs": [
    {
     "data": {
      "text/plain": [
       "array([0, 1, 2, 3, 4])"
      ]
     },
     "execution_count": 15,
     "metadata": {},
     "output_type": "execute_result"
    }
   ],
   "source": [
    "np.load('myArray.npy')"
   ]
  },
  {
   "cell_type": "code",
   "execution_count": 17,
   "id": "34eeecf9-0f3f-42b9-b962-157ef69681ce",
   "metadata": {},
   "outputs": [
    {
     "data": {
      "text/plain": [
       "array([0, 1, 2, 3, 4])"
      ]
     },
     "execution_count": 17,
     "metadata": {},
     "output_type": "execute_result"
    }
   ],
   "source": [
    "arr1 = np.load('myArray.npy')\n",
    "arr1"
   ]
  },
  {
   "cell_type": "code",
   "execution_count": 19,
   "id": "80322a73-b801-4e91-a70b-c334b3ee8a75",
   "metadata": {},
   "outputs": [
    {
     "data": {
      "text/plain": [
       "array([0, 1, 2, 3, 4, 5, 6, 7, 8, 9])"
      ]
     },
     "execution_count": 19,
     "metadata": {},
     "output_type": "execute_result"
    }
   ],
   "source": [
    "arr2 = arr\n",
    "arr2"
   ]
  },
  {
   "cell_type": "code",
   "execution_count": 21,
   "id": "3172a1f1-3db8-416d-9774-0e1ecbd3e444",
   "metadata": {},
   "outputs": [],
   "source": [
    "np.savez('zipArray.npz', x = arr1, y = arr2)"
   ]
  },
  {
   "cell_type": "code",
   "execution_count": 27,
   "id": "58e56f35-7c55-4598-a81b-582a5f444c87",
   "metadata": {},
   "outputs": [],
   "source": [
    "archive_array = np.load('zipArray.npz')"
   ]
  },
  {
   "cell_type": "code",
   "execution_count": 31,
   "id": "11493f94-a4c6-4126-aadd-e10c1db2c0c5",
   "metadata": {},
   "outputs": [
    {
     "data": {
      "text/plain": [
       "array([0, 1, 2, 3, 4])"
      ]
     },
     "execution_count": 31,
     "metadata": {},
     "output_type": "execute_result"
    }
   ],
   "source": [
    "archive_array['x']"
   ]
  },
  {
   "cell_type": "code",
   "execution_count": 35,
   "id": "a1016946-8ec8-407b-b246-600c9766beaa",
   "metadata": {},
   "outputs": [
    {
     "data": {
      "text/plain": [
       "array([0, 1, 2, 3, 4, 5, 6, 7, 8, 9])"
      ]
     },
     "execution_count": 35,
     "metadata": {},
     "output_type": "execute_result"
    }
   ],
   "source": [
    "archive_array['y']"
   ]
  },
  {
   "cell_type": "code",
   "execution_count": null,
   "id": "2c817955-29cc-4827-acdc-5acf8be771d1",
   "metadata": {},
   "outputs": [],
   "source": [
    "# save and load text\n",
    "np.savetxt('whatever.txt', array_to_save, delimiter = ',')\n",
    "arr = np.loadtxt('whatever.txt', delimiter = ',')"
   ]
  }
 ],
 "metadata": {
  "kernelspec": {
   "display_name": "Python [conda env:base] *",
   "language": "python",
   "name": "conda-base-py"
  },
  "language_info": {
   "codemirror_mode": {
    "name": "ipython",
    "version": 3
   },
   "file_extension": ".py",
   "mimetype": "text/x-python",
   "name": "python",
   "nbconvert_exporter": "python",
   "pygments_lexer": "ipython3",
   "version": "3.12.7"
  }
 },
 "nbformat": 4,
 "nbformat_minor": 5
}
