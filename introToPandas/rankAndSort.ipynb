{
 "cells": [
  {
   "cell_type": "code",
   "execution_count": 1,
   "id": "6ca8bdc6-154a-42b7-93d4-05724f1e9c6d",
   "metadata": {},
   "outputs": [],
   "source": [
    "import numpy as np\n",
    "import pandas as pd\n",
    "from pandas import Series, DataFrame"
   ]
  },
  {
   "cell_type": "code",
   "execution_count": 3,
   "id": "87a6057a-511c-4685-8793-8ce03be248cb",
   "metadata": {},
   "outputs": [
    {
     "data": {
      "text/plain": [
       "C    0\n",
       "A    1\n",
       "B    2\n",
       "dtype: int64"
      ]
     },
     "execution_count": 3,
     "metadata": {},
     "output_type": "execute_result"
    }
   ],
   "source": [
    "ser1 = Series(range(3), index = [\"C\", \"A\", \"B\"])\n",
    "ser1"
   ]
  },
  {
   "cell_type": "code",
   "execution_count": 5,
   "id": "6092d0be-12fc-45cb-86d2-74cbf085e870",
   "metadata": {},
   "outputs": [
    {
     "data": {
      "text/plain": [
       "A    1\n",
       "B    2\n",
       "C    0\n",
       "dtype: int64"
      ]
     },
     "execution_count": 5,
     "metadata": {},
     "output_type": "execute_result"
    }
   ],
   "source": [
    "ser1.sort_index()"
   ]
  },
  {
   "cell_type": "code",
   "execution_count": 9,
   "id": "0efa18ba-f5ad-4158-a515-7f3baac50a82",
   "metadata": {},
   "outputs": [
    {
     "data": {
      "text/plain": [
       "C    0\n",
       "A    1\n",
       "B    2\n",
       "dtype: int64"
      ]
     },
     "execution_count": 9,
     "metadata": {},
     "output_type": "execute_result"
    }
   ],
   "source": [
    "ser1.sort_values()"
   ]
  },
  {
   "cell_type": "code",
   "execution_count": 45,
   "id": "3e681961-c6d3-4059-b172-df0268f88fa7",
   "metadata": {},
   "outputs": [],
   "source": [
    "from numpy.random import randn"
   ]
  },
  {
   "cell_type": "code",
   "execution_count": 47,
   "id": "d59a5859-3127-4469-982d-e535463ebbcc",
   "metadata": {},
   "outputs": [
    {
     "data": {
      "text/plain": [
       "0    0.421208\n",
       "1    0.599130\n",
       "2   -1.072708\n",
       "3   -2.019806\n",
       "4    0.049870\n",
       "5   -0.647943\n",
       "6   -0.074859\n",
       "7    0.728916\n",
       "8    0.271115\n",
       "9    0.378845\n",
       "dtype: float64"
      ]
     },
     "execution_count": 47,
     "metadata": {},
     "output_type": "execute_result"
    }
   ],
   "source": [
    "ser2 = Series(randn(10))\n",
    "ser2"
   ]
  },
  {
   "cell_type": "code",
   "execution_count": 55,
   "id": "3d65af18-6df0-4359-a4b3-4edf6e070f0b",
   "metadata": {},
   "outputs": [
    {
     "data": {
      "text/plain": [
       "3   -2.019806\n",
       "2   -1.072708\n",
       "5   -0.647943\n",
       "6   -0.074859\n",
       "4    0.049870\n",
       "8    0.271115\n",
       "9    0.378845\n",
       "0    0.421208\n",
       "1    0.599130\n",
       "7    0.728916\n",
       "dtype: float64"
      ]
     },
     "execution_count": 55,
     "metadata": {},
     "output_type": "execute_result"
    }
   ],
   "source": [
    "ser2.sort_values()"
   ]
  },
  {
   "cell_type": "code",
   "execution_count": 57,
   "id": "a116eb72-a2c2-470c-8209-58ab272b96cc",
   "metadata": {},
   "outputs": [
    {
     "data": {
      "text/plain": [
       "0    0.421208\n",
       "1    0.599130\n",
       "2   -1.072708\n",
       "3   -2.019806\n",
       "4    0.049870\n",
       "5   -0.647943\n",
       "6   -0.074859\n",
       "7    0.728916\n",
       "8    0.271115\n",
       "9    0.378845\n",
       "dtype: float64"
      ]
     },
     "execution_count": 57,
     "metadata": {},
     "output_type": "execute_result"
    }
   ],
   "source": [
    "ser2"
   ]
  },
  {
   "cell_type": "code",
   "execution_count": 59,
   "id": "76387549-2e48-484a-8f3b-4f844a972547",
   "metadata": {},
   "outputs": [
    {
     "data": {
      "text/plain": [
       "0     8.0\n",
       "1     9.0\n",
       "2     2.0\n",
       "3     1.0\n",
       "4     5.0\n",
       "5     3.0\n",
       "6     4.0\n",
       "7    10.0\n",
       "8     6.0\n",
       "9     7.0\n",
       "dtype: float64"
      ]
     },
     "execution_count": 59,
     "metadata": {},
     "output_type": "execute_result"
    }
   ],
   "source": [
    "ser2.rank()"
   ]
  },
  {
   "cell_type": "code",
   "execution_count": 63,
   "id": "30c53887-7638-458c-a7f5-58bd29840888",
   "metadata": {},
   "outputs": [
    {
     "data": {
      "text/plain": [
       "3     1.0\n",
       "2     2.0\n",
       "5     3.0\n",
       "6     4.0\n",
       "4     5.0\n",
       "8     6.0\n",
       "9     7.0\n",
       "0     8.0\n",
       "1     9.0\n",
       "7    10.0\n",
       "dtype: float64"
      ]
     },
     "execution_count": 63,
     "metadata": {},
     "output_type": "execute_result"
    }
   ],
   "source": [
    "ser2.sort_values().rank()"
   ]
  },
  {
   "cell_type": "code",
   "execution_count": null,
   "id": "8ef02678-beb2-494e-b789-ad845192f6f3",
   "metadata": {},
   "outputs": [],
   "source": []
  }
 ],
 "metadata": {
  "kernelspec": {
   "display_name": "Python [conda env:base] *",
   "language": "python",
   "name": "conda-base-py"
  },
  "language_info": {
   "codemirror_mode": {
    "name": "ipython",
    "version": 3
   },
   "file_extension": ".py",
   "mimetype": "text/x-python",
   "name": "python",
   "nbconvert_exporter": "python",
   "pygments_lexer": "ipython3",
   "version": "3.12.7"
  }
 },
 "nbformat": 4,
 "nbformat_minor": 5
}
