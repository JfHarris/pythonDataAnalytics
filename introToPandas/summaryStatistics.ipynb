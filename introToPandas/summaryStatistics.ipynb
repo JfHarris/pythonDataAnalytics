{
 "cells": [
  {
   "cell_type": "code",
   "execution_count": 1,
   "id": "f4fd4ee1-be70-4bfd-b6a9-a7d2203cbe1f",
   "metadata": {},
   "outputs": [],
   "source": [
    "import numpy as np\n",
    "import pandas as pd\n",
    "from pandas import Series, DataFrame"
   ]
  },
  {
   "cell_type": "code",
   "execution_count": 3,
   "id": "d38b9cbb-1391-40b6-9b88-65481e8fd1c9",
   "metadata": {},
   "outputs": [
    {
     "data": {
      "text/plain": [
       "array([[ 1.,  2., nan],\n",
       "       [nan,  3.,  4.]])"
      ]
     },
     "execution_count": 3,
     "metadata": {},
     "output_type": "execute_result"
    }
   ],
   "source": [
    "arr = np.array([[1, 2, np.nan], [np.nan, 3, 4]])\n",
    "arr"
   ]
  },
  {
   "cell_type": "code",
   "execution_count": 9,
   "id": "ed37fd84-98a4-482b-a791-fd98042c5e31",
   "metadata": {},
   "outputs": [
    {
     "data": {
      "text/html": [
       "<div>\n",
       "<style scoped>\n",
       "    .dataframe tbody tr th:only-of-type {\n",
       "        vertical-align: middle;\n",
       "    }\n",
       "\n",
       "    .dataframe tbody tr th {\n",
       "        vertical-align: top;\n",
       "    }\n",
       "\n",
       "    .dataframe thead th {\n",
       "        text-align: right;\n",
       "    }\n",
       "</style>\n",
       "<table border=\"1\" class=\"dataframe\">\n",
       "  <thead>\n",
       "    <tr style=\"text-align: right;\">\n",
       "      <th></th>\n",
       "      <th>One</th>\n",
       "      <th>Two</th>\n",
       "      <th>Three</th>\n",
       "    </tr>\n",
       "  </thead>\n",
       "  <tbody>\n",
       "    <tr>\n",
       "      <th>A</th>\n",
       "      <td>1.0</td>\n",
       "      <td>2.0</td>\n",
       "      <td>NaN</td>\n",
       "    </tr>\n",
       "    <tr>\n",
       "      <th>B</th>\n",
       "      <td>NaN</td>\n",
       "      <td>3.0</td>\n",
       "      <td>4.0</td>\n",
       "    </tr>\n",
       "  </tbody>\n",
       "</table>\n",
       "</div>"
      ],
      "text/plain": [
       "   One  Two  Three\n",
       "A  1.0  2.0    NaN\n",
       "B  NaN  3.0    4.0"
      ]
     },
     "execution_count": 9,
     "metadata": {},
     "output_type": "execute_result"
    }
   ],
   "source": [
    "dframe1 = DataFrame(arr, index = [\"A\", \"B\"], columns = [\"One\", \"Two\", \"Three\"])\n",
    "dframe1"
   ]
  },
  {
   "cell_type": "code",
   "execution_count": 11,
   "id": "6ea96ff2-13b7-4e66-9ee3-fc90e7fe7380",
   "metadata": {},
   "outputs": [
    {
     "data": {
      "text/plain": [
       "One      1.0\n",
       "Two      5.0\n",
       "Three    4.0\n",
       "dtype: float64"
      ]
     },
     "execution_count": 11,
     "metadata": {},
     "output_type": "execute_result"
    }
   ],
   "source": [
    "dframe1.sum()"
   ]
  },
  {
   "cell_type": "code",
   "execution_count": 13,
   "id": "893a0c82-70c8-4fba-83da-5b0baba5c242",
   "metadata": {},
   "outputs": [
    {
     "data": {
      "text/plain": [
       "A    3.0\n",
       "B    7.0\n",
       "dtype: float64"
      ]
     },
     "execution_count": 13,
     "metadata": {},
     "output_type": "execute_result"
    }
   ],
   "source": [
    "dframe1.sum(axis = 1)"
   ]
  },
  {
   "cell_type": "code",
   "execution_count": 15,
   "id": "fb373102-2227-4b9e-bbea-1df973077f04",
   "metadata": {},
   "outputs": [
    {
     "data": {
      "text/plain": [
       "One      1.0\n",
       "Two      2.0\n",
       "Three    4.0\n",
       "dtype: float64"
      ]
     },
     "execution_count": 15,
     "metadata": {},
     "output_type": "execute_result"
    }
   ],
   "source": [
    "dframe1.min()"
   ]
  },
  {
   "cell_type": "code",
   "execution_count": 19,
   "id": "d30f02fa-02ac-476d-b5ec-9f6a108003b4",
   "metadata": {},
   "outputs": [
    {
     "data": {
      "text/plain": [
       "One      A\n",
       "Two      A\n",
       "Three    B\n",
       "dtype: object"
      ]
     },
     "execution_count": 19,
     "metadata": {},
     "output_type": "execute_result"
    }
   ],
   "source": [
    "# min by index\n",
    "dframe1.idxmin()"
   ]
  },
  {
   "cell_type": "code",
   "execution_count": 21,
   "id": "c6037d2d-9616-45c8-aca8-db79e6c3713a",
   "metadata": {},
   "outputs": [
    {
     "data": {
      "text/plain": [
       "One      A\n",
       "Two      B\n",
       "Three    B\n",
       "dtype: object"
      ]
     },
     "execution_count": 21,
     "metadata": {},
     "output_type": "execute_result"
    }
   ],
   "source": [
    "dframe1.idxmax()"
   ]
  },
  {
   "cell_type": "code",
   "execution_count": 23,
   "id": "a55523c7-975a-491f-97cf-f908f6c686ae",
   "metadata": {},
   "outputs": [
    {
     "data": {
      "text/html": [
       "<div>\n",
       "<style scoped>\n",
       "    .dataframe tbody tr th:only-of-type {\n",
       "        vertical-align: middle;\n",
       "    }\n",
       "\n",
       "    .dataframe tbody tr th {\n",
       "        vertical-align: top;\n",
       "    }\n",
       "\n",
       "    .dataframe thead th {\n",
       "        text-align: right;\n",
       "    }\n",
       "</style>\n",
       "<table border=\"1\" class=\"dataframe\">\n",
       "  <thead>\n",
       "    <tr style=\"text-align: right;\">\n",
       "      <th></th>\n",
       "      <th>One</th>\n",
       "      <th>Two</th>\n",
       "      <th>Three</th>\n",
       "    </tr>\n",
       "  </thead>\n",
       "  <tbody>\n",
       "    <tr>\n",
       "      <th>A</th>\n",
       "      <td>1.0</td>\n",
       "      <td>2.0</td>\n",
       "      <td>NaN</td>\n",
       "    </tr>\n",
       "    <tr>\n",
       "      <th>B</th>\n",
       "      <td>NaN</td>\n",
       "      <td>5.0</td>\n",
       "      <td>4.0</td>\n",
       "    </tr>\n",
       "  </tbody>\n",
       "</table>\n",
       "</div>"
      ],
      "text/plain": [
       "   One  Two  Three\n",
       "A  1.0  2.0    NaN\n",
       "B  NaN  5.0    4.0"
      ]
     },
     "execution_count": 23,
     "metadata": {},
     "output_type": "execute_result"
    }
   ],
   "source": [
    "# cumulative sum of columns\n",
    "dframe1.cumsum()"
   ]
  },
  {
   "cell_type": "code",
   "execution_count": 25,
   "id": "7edcb70e-fa65-43a9-aab4-ece0846a7c41",
   "metadata": {},
   "outputs": [
    {
     "data": {
      "text/html": [
       "<div>\n",
       "<style scoped>\n",
       "    .dataframe tbody tr th:only-of-type {\n",
       "        vertical-align: middle;\n",
       "    }\n",
       "\n",
       "    .dataframe tbody tr th {\n",
       "        vertical-align: top;\n",
       "    }\n",
       "\n",
       "    .dataframe thead th {\n",
       "        text-align: right;\n",
       "    }\n",
       "</style>\n",
       "<table border=\"1\" class=\"dataframe\">\n",
       "  <thead>\n",
       "    <tr style=\"text-align: right;\">\n",
       "      <th></th>\n",
       "      <th>One</th>\n",
       "      <th>Two</th>\n",
       "      <th>Three</th>\n",
       "    </tr>\n",
       "  </thead>\n",
       "  <tbody>\n",
       "    <tr>\n",
       "      <th>count</th>\n",
       "      <td>1.0</td>\n",
       "      <td>2.000000</td>\n",
       "      <td>1.0</td>\n",
       "    </tr>\n",
       "    <tr>\n",
       "      <th>mean</th>\n",
       "      <td>1.0</td>\n",
       "      <td>2.500000</td>\n",
       "      <td>4.0</td>\n",
       "    </tr>\n",
       "    <tr>\n",
       "      <th>std</th>\n",
       "      <td>NaN</td>\n",
       "      <td>0.707107</td>\n",
       "      <td>NaN</td>\n",
       "    </tr>\n",
       "    <tr>\n",
       "      <th>min</th>\n",
       "      <td>1.0</td>\n",
       "      <td>2.000000</td>\n",
       "      <td>4.0</td>\n",
       "    </tr>\n",
       "    <tr>\n",
       "      <th>25%</th>\n",
       "      <td>1.0</td>\n",
       "      <td>2.250000</td>\n",
       "      <td>4.0</td>\n",
       "    </tr>\n",
       "    <tr>\n",
       "      <th>50%</th>\n",
       "      <td>1.0</td>\n",
       "      <td>2.500000</td>\n",
       "      <td>4.0</td>\n",
       "    </tr>\n",
       "    <tr>\n",
       "      <th>75%</th>\n",
       "      <td>1.0</td>\n",
       "      <td>2.750000</td>\n",
       "      <td>4.0</td>\n",
       "    </tr>\n",
       "    <tr>\n",
       "      <th>max</th>\n",
       "      <td>1.0</td>\n",
       "      <td>3.000000</td>\n",
       "      <td>4.0</td>\n",
       "    </tr>\n",
       "  </tbody>\n",
       "</table>\n",
       "</div>"
      ],
      "text/plain": [
       "       One       Two  Three\n",
       "count  1.0  2.000000    1.0\n",
       "mean   1.0  2.500000    4.0\n",
       "std    NaN  0.707107    NaN\n",
       "min    1.0  2.000000    4.0\n",
       "25%    1.0  2.250000    4.0\n",
       "50%    1.0  2.500000    4.0\n",
       "75%    1.0  2.750000    4.0\n",
       "max    1.0  3.000000    4.0"
      ]
     },
     "execution_count": 25,
     "metadata": {},
     "output_type": "execute_result"
    }
   ],
   "source": [
    "dframe1.describe()"
   ]
  },
  {
   "cell_type": "code",
   "execution_count": 35,
   "id": "bb33753b-d161-4700-bda7-4aef6f0c8730",
   "metadata": {},
   "outputs": [],
   "source": [
    "# covariance video https://www.youtube.com/watch?v=xGbpuFNR1ME\n",
    "# correlation video https://www.youtube.com/watch?v=4EXNedimDMs"
   ]
  },
  {
   "cell_type": "code",
   "execution_count": 9,
   "id": "37341bf2-c83f-458b-b4e8-6761d7f32fac",
   "metadata": {},
   "outputs": [],
   "source": [
    "from pandas_datareader import data as pdr\n",
    "import datetime as dt"
   ]
  },
  {
   "cell_type": "code",
   "execution_count": 79,
   "id": "6ebcacf6-f8b1-442c-aa95-bfe7123f1605",
   "metadata": {},
   "outputs": [
    {
     "data": {
      "text/html": [
       "<div>\n",
       "<style scoped>\n",
       "    .dataframe tbody tr th:only-of-type {\n",
       "        vertical-align: middle;\n",
       "    }\n",
       "\n",
       "    .dataframe tbody tr th {\n",
       "        vertical-align: top;\n",
       "    }\n",
       "\n",
       "    .dataframe thead tr th {\n",
       "        text-align: left;\n",
       "    }\n",
       "\n",
       "    .dataframe thead tr:last-of-type th {\n",
       "        text-align: right;\n",
       "    }\n",
       "</style>\n",
       "<table border=\"1\" class=\"dataframe\">\n",
       "  <thead>\n",
       "    <tr>\n",
       "      <th>Attributes</th>\n",
       "      <th colspan=\"3\" halign=\"left\">Close</th>\n",
       "      <th colspan=\"3\" halign=\"left\">High</th>\n",
       "      <th colspan=\"3\" halign=\"left\">Low</th>\n",
       "      <th colspan=\"3\" halign=\"left\">Open</th>\n",
       "      <th colspan=\"3\" halign=\"left\">Volume</th>\n",
       "    </tr>\n",
       "    <tr>\n",
       "      <th>Symbols</th>\n",
       "      <th>CVX</th>\n",
       "      <th>BP</th>\n",
       "      <th>XOM</th>\n",
       "      <th>CVX</th>\n",
       "      <th>BP</th>\n",
       "      <th>XOM</th>\n",
       "      <th>CVX</th>\n",
       "      <th>BP</th>\n",
       "      <th>XOM</th>\n",
       "      <th>CVX</th>\n",
       "      <th>BP</th>\n",
       "      <th>XOM</th>\n",
       "      <th>CVX</th>\n",
       "      <th>BP</th>\n",
       "      <th>XOM</th>\n",
       "    </tr>\n",
       "    <tr>\n",
       "      <th>Date</th>\n",
       "      <th></th>\n",
       "      <th></th>\n",
       "      <th></th>\n",
       "      <th></th>\n",
       "      <th></th>\n",
       "      <th></th>\n",
       "      <th></th>\n",
       "      <th></th>\n",
       "      <th></th>\n",
       "      <th></th>\n",
       "      <th></th>\n",
       "      <th></th>\n",
       "      <th></th>\n",
       "      <th></th>\n",
       "      <th></th>\n",
       "    </tr>\n",
       "  </thead>\n",
       "  <tbody>\n",
       "    <tr>\n",
       "      <th>2022-12-30</th>\n",
       "      <td>179.49</td>\n",
       "      <td>34.93</td>\n",
       "      <td>110.30</td>\n",
       "      <td>179.9500</td>\n",
       "      <td>34.96</td>\n",
       "      <td>110.500</td>\n",
       "      <td>177.70</td>\n",
       "      <td>34.4700</td>\n",
       "      <td>108.610</td>\n",
       "      <td>178.03</td>\n",
       "      <td>34.52</td>\n",
       "      <td>108.61</td>\n",
       "      <td>5005094.0</td>\n",
       "      <td>4823003.0</td>\n",
       "      <td>11799640.0</td>\n",
       "    </tr>\n",
       "    <tr>\n",
       "      <th>2022-12-29</th>\n",
       "      <td>178.32</td>\n",
       "      <td>34.70</td>\n",
       "      <td>109.20</td>\n",
       "      <td>179.2000</td>\n",
       "      <td>34.85</td>\n",
       "      <td>109.720</td>\n",
       "      <td>176.65</td>\n",
       "      <td>34.4900</td>\n",
       "      <td>107.990</td>\n",
       "      <td>176.65</td>\n",
       "      <td>34.54</td>\n",
       "      <td>107.99</td>\n",
       "      <td>4142090.0</td>\n",
       "      <td>4881631.0</td>\n",
       "      <td>10534028.0</td>\n",
       "    </tr>\n",
       "    <tr>\n",
       "      <th>2022-12-28</th>\n",
       "      <td>176.98</td>\n",
       "      <td>34.58</td>\n",
       "      <td>108.38</td>\n",
       "      <td>179.2981</td>\n",
       "      <td>35.42</td>\n",
       "      <td>110.000</td>\n",
       "      <td>175.93</td>\n",
       "      <td>34.4901</td>\n",
       "      <td>107.902</td>\n",
       "      <td>178.86</td>\n",
       "      <td>35.42</td>\n",
       "      <td>109.91</td>\n",
       "      <td>4494350.0</td>\n",
       "      <td>5232380.0</td>\n",
       "      <td>10702075.0</td>\n",
       "    </tr>\n",
       "    <tr>\n",
       "      <th>2022-12-27</th>\n",
       "      <td>179.63</td>\n",
       "      <td>35.04</td>\n",
       "      <td>110.19</td>\n",
       "      <td>180.2300</td>\n",
       "      <td>35.16</td>\n",
       "      <td>110.465</td>\n",
       "      <td>177.40</td>\n",
       "      <td>34.8800</td>\n",
       "      <td>108.830</td>\n",
       "      <td>178.36</td>\n",
       "      <td>35.00</td>\n",
       "      <td>109.27</td>\n",
       "      <td>5167962.0</td>\n",
       "      <td>4325978.0</td>\n",
       "      <td>11962058.0</td>\n",
       "    </tr>\n",
       "    <tr>\n",
       "      <th>2022-12-23</th>\n",
       "      <td>177.40</td>\n",
       "      <td>35.01</td>\n",
       "      <td>108.68</td>\n",
       "      <td>177.5800</td>\n",
       "      <td>35.05</td>\n",
       "      <td>108.740</td>\n",
       "      <td>173.69</td>\n",
       "      <td>34.5350</td>\n",
       "      <td>106.900</td>\n",
       "      <td>174.10</td>\n",
       "      <td>34.63</td>\n",
       "      <td>106.95</td>\n",
       "      <td>6079120.0</td>\n",
       "      <td>5191839.0</td>\n",
       "      <td>11539448.0</td>\n",
       "    </tr>\n",
       "  </tbody>\n",
       "</table>\n",
       "</div>"
      ],
      "text/plain": [
       "Attributes   Close                     High                     Low           \\\n",
       "Symbols        CVX     BP     XOM       CVX     BP      XOM     CVX       BP   \n",
       "Date                                                                           \n",
       "2022-12-30  179.49  34.93  110.30  179.9500  34.96  110.500  177.70  34.4700   \n",
       "2022-12-29  178.32  34.70  109.20  179.2000  34.85  109.720  176.65  34.4900   \n",
       "2022-12-28  176.98  34.58  108.38  179.2981  35.42  110.000  175.93  34.4901   \n",
       "2022-12-27  179.63  35.04  110.19  180.2300  35.16  110.465  177.40  34.8800   \n",
       "2022-12-23  177.40  35.01  108.68  177.5800  35.05  108.740  173.69  34.5350   \n",
       "\n",
       "Attributes             Open                    Volume                         \n",
       "Symbols         XOM     CVX     BP     XOM        CVX         BP         XOM  \n",
       "Date                                                                          \n",
       "2022-12-30  108.610  178.03  34.52  108.61  5005094.0  4823003.0  11799640.0  \n",
       "2022-12-29  107.990  176.65  34.54  107.99  4142090.0  4881631.0  10534028.0  \n",
       "2022-12-28  107.902  178.86  35.42  109.91  4494350.0  5232380.0  10702075.0  \n",
       "2022-12-27  108.830  178.36  35.00  109.27  5167962.0  4325978.0  11962058.0  \n",
       "2022-12-23  106.900  174.10  34.63  106.95  6079120.0  5191839.0  11539448.0  "
      ]
     },
     "execution_count": 79,
     "metadata": {},
     "output_type": "execute_result"
    }
   ],
   "source": [
    "start_date = dt.datetime(2020, 1, 1)\n",
    "end_date = dt.datetime(2023, 1, 1)\n",
    "\n",
    "prices = pdr.DataReader(['CVX', \"BP\", \"XOM\"], 'stooq', start = start_date, end = end_date)\n",
    "\n",
    "prices.head()\n"
   ]
  },
  {
   "cell_type": "code",
   "execution_count": null,
   "id": "ad974f8a-f7ea-4fc8-b492-e1cfca80b678",
   "metadata": {},
   "outputs": [],
   "source": []
  }
 ],
 "metadata": {
  "kernelspec": {
   "display_name": "Python [conda env:base] *",
   "language": "python",
   "name": "conda-base-py"
  },
  "language_info": {
   "codemirror_mode": {
    "name": "ipython",
    "version": 3
   },
   "file_extension": ".py",
   "mimetype": "text/x-python",
   "name": "python",
   "nbconvert_exporter": "python",
   "pygments_lexer": "ipython3",
   "version": "3.12.7"
  }
 },
 "nbformat": 4,
 "nbformat_minor": 5
}
