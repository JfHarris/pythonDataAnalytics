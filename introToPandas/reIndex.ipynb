{
 "cells": [
  {
   "cell_type": "code",
   "execution_count": 1,
   "id": "9021a430-98da-4927-a82f-2b89c6b1e73e",
   "metadata": {},
   "outputs": [],
   "source": [
    "import numpy as np\n",
    "from numpy.random import randn\n",
    "import pandas as pd\n",
    "from pandas import Series, DataFrame"
   ]
  },
  {
   "cell_type": "code",
   "execution_count": 3,
   "id": "dd1b19f1-c9b0-4ae4-b9c2-451bf1bc0547",
   "metadata": {},
   "outputs": [
    {
     "data": {
      "text/plain": [
       "A    1\n",
       "B    2\n",
       "C    3\n",
       "D    4\n",
       "dtype: int64"
      ]
     },
     "execution_count": 3,
     "metadata": {},
     "output_type": "execute_result"
    }
   ],
   "source": [
    "ser1 = Series([1, 2, 3 , 4], index = [\"A\", \"B\", \"C\", \"D\"])\n",
    "ser1"
   ]
  },
  {
   "cell_type": "code",
   "execution_count": 9,
   "id": "4b3597f4-1008-4e0e-8c38-9361405500a9",
   "metadata": {},
   "outputs": [
    {
     "data": {
      "text/plain": [
       "A    1.0\n",
       "B    2.0\n",
       "C    3.0\n",
       "D    4.0\n",
       "E    NaN\n",
       "F    NaN\n",
       "dtype: float64"
      ]
     },
     "execution_count": 9,
     "metadata": {},
     "output_type": "execute_result"
    }
   ],
   "source": [
    "ser2 = ser1.reindex([\"A\", \"B\", \"C\", \"D\", \"E\", \"F\"])\n",
    "ser2"
   ]
  },
  {
   "cell_type": "code",
   "execution_count": 15,
   "id": "bfd7018d-98e7-4f9c-927a-9d9edabf8638",
   "metadata": {},
   "outputs": [
    {
     "data": {
      "text/plain": [
       "A    1.0\n",
       "B    2.0\n",
       "C    3.0\n",
       "D    4.0\n",
       "E    NaN\n",
       "F    NaN\n",
       "G    0.0\n",
       "dtype: float64"
      ]
     },
     "execution_count": 15,
     "metadata": {},
     "output_type": "execute_result"
    }
   ],
   "source": [
    "ser2.reindex([\"A\", \"B\", \"C\", \"D\", \"E\", \"F\", \"G\"], fill_value = 0)"
   ]
  },
  {
   "cell_type": "code",
   "execution_count": 17,
   "id": "591b52a9-2243-4ebc-9483-26deafdd9d3c",
   "metadata": {},
   "outputs": [
    {
     "data": {
      "text/plain": [
       "0        USA\n",
       "5     Mexico\n",
       "10    Canada\n",
       "dtype: object"
      ]
     },
     "execution_count": 17,
     "metadata": {},
     "output_type": "execute_result"
    }
   ],
   "source": [
    "ser3 = Series([\"USA\", \"Mexico\", \"Canada\"], index = [0, 5, 10])\n",
    "ser3"
   ]
  },
  {
   "cell_type": "code",
   "execution_count": 19,
   "id": "b161d8e6-78c3-46fc-bbde-7d327fccef55",
   "metadata": {},
   "outputs": [
    {
     "data": {
      "text/plain": [
       "0        USA\n",
       "1        USA\n",
       "2        USA\n",
       "3        USA\n",
       "4        USA\n",
       "5     Mexico\n",
       "6     Mexico\n",
       "7     Mexico\n",
       "8     Mexico\n",
       "9     Mexico\n",
       "10    Canada\n",
       "11    Canada\n",
       "12    Canada\n",
       "13    Canada\n",
       "14    Canada\n",
       "dtype: object"
      ]
     },
     "execution_count": 19,
     "metadata": {},
     "output_type": "execute_result"
    }
   ],
   "source": [
    "ranger = range(15)\n",
    "ser3.reindex(ranger, method = 'ffill')"
   ]
  },
  {
   "cell_type": "code",
   "execution_count": 27,
   "id": "d16edafb-2b27-4416-b23e-9c08e7483320",
   "metadata": {},
   "outputs": [
    {
     "data": {
      "text/html": [
       "<div>\n",
       "<style scoped>\n",
       "    .dataframe tbody tr th:only-of-type {\n",
       "        vertical-align: middle;\n",
       "    }\n",
       "\n",
       "    .dataframe tbody tr th {\n",
       "        vertical-align: top;\n",
       "    }\n",
       "\n",
       "    .dataframe thead th {\n",
       "        text-align: right;\n",
       "    }\n",
       "</style>\n",
       "<table border=\"1\" class=\"dataframe\">\n",
       "  <thead>\n",
       "    <tr style=\"text-align: right;\">\n",
       "      <th></th>\n",
       "      <th>col1</th>\n",
       "      <th>col2</th>\n",
       "      <th>col3</th>\n",
       "      <th>col4</th>\n",
       "      <th>col5</th>\n",
       "    </tr>\n",
       "  </thead>\n",
       "  <tbody>\n",
       "    <tr>\n",
       "      <th>A</th>\n",
       "      <td>-0.496062</td>\n",
       "      <td>1.000992</td>\n",
       "      <td>-0.628704</td>\n",
       "      <td>0.312250</td>\n",
       "      <td>-1.160339</td>\n",
       "    </tr>\n",
       "    <tr>\n",
       "      <th>B</th>\n",
       "      <td>-0.706905</td>\n",
       "      <td>-0.368314</td>\n",
       "      <td>1.753851</td>\n",
       "      <td>1.678624</td>\n",
       "      <td>-0.616465</td>\n",
       "    </tr>\n",
       "    <tr>\n",
       "      <th>D</th>\n",
       "      <td>-0.892234</td>\n",
       "      <td>-0.288553</td>\n",
       "      <td>-1.024561</td>\n",
       "      <td>0.386833</td>\n",
       "      <td>-0.374927</td>\n",
       "    </tr>\n",
       "    <tr>\n",
       "      <th>E</th>\n",
       "      <td>1.528174</td>\n",
       "      <td>-1.168257</td>\n",
       "      <td>-1.733056</td>\n",
       "      <td>-1.491013</td>\n",
       "      <td>-2.502697</td>\n",
       "    </tr>\n",
       "    <tr>\n",
       "      <th>F</th>\n",
       "      <td>0.157519</td>\n",
       "      <td>1.403284</td>\n",
       "      <td>-0.649773</td>\n",
       "      <td>1.003569</td>\n",
       "      <td>-0.266126</td>\n",
       "    </tr>\n",
       "  </tbody>\n",
       "</table>\n",
       "</div>"
      ],
      "text/plain": [
       "       col1      col2      col3      col4      col5\n",
       "A -0.496062  1.000992 -0.628704  0.312250 -1.160339\n",
       "B -0.706905 -0.368314  1.753851  1.678624 -0.616465\n",
       "D -0.892234 -0.288553 -1.024561  0.386833 -0.374927\n",
       "E  1.528174 -1.168257 -1.733056 -1.491013 -2.502697\n",
       "F  0.157519  1.403284 -0.649773  1.003569 -0.266126"
      ]
     },
     "execution_count": 27,
     "metadata": {},
     "output_type": "execute_result"
    }
   ],
   "source": [
    "dframe = DataFrame(randn(25).reshape(5, 5), index = [\"A\", \"B\", \"D\", \"E\", \"F\"], columns = [\"col1\", \"col2\", \"col3\", \"col4\", \"col5\"])\n",
    "dframe"
   ]
  },
  {
   "cell_type": "code",
   "execution_count": 29,
   "id": "084d3b4b-50fb-455c-9ec2-f608238b16eb",
   "metadata": {},
   "outputs": [
    {
     "data": {
      "text/html": [
       "<div>\n",
       "<style scoped>\n",
       "    .dataframe tbody tr th:only-of-type {\n",
       "        vertical-align: middle;\n",
       "    }\n",
       "\n",
       "    .dataframe tbody tr th {\n",
       "        vertical-align: top;\n",
       "    }\n",
       "\n",
       "    .dataframe thead th {\n",
       "        text-align: right;\n",
       "    }\n",
       "</style>\n",
       "<table border=\"1\" class=\"dataframe\">\n",
       "  <thead>\n",
       "    <tr style=\"text-align: right;\">\n",
       "      <th></th>\n",
       "      <th>col1</th>\n",
       "      <th>col2</th>\n",
       "      <th>col3</th>\n",
       "      <th>col4</th>\n",
       "      <th>col5</th>\n",
       "    </tr>\n",
       "  </thead>\n",
       "  <tbody>\n",
       "    <tr>\n",
       "      <th>A</th>\n",
       "      <td>-0.496062</td>\n",
       "      <td>1.000992</td>\n",
       "      <td>-0.628704</td>\n",
       "      <td>0.312250</td>\n",
       "      <td>-1.160339</td>\n",
       "    </tr>\n",
       "    <tr>\n",
       "      <th>B</th>\n",
       "      <td>-0.706905</td>\n",
       "      <td>-0.368314</td>\n",
       "      <td>1.753851</td>\n",
       "      <td>1.678624</td>\n",
       "      <td>-0.616465</td>\n",
       "    </tr>\n",
       "    <tr>\n",
       "      <th>C</th>\n",
       "      <td>NaN</td>\n",
       "      <td>NaN</td>\n",
       "      <td>NaN</td>\n",
       "      <td>NaN</td>\n",
       "      <td>NaN</td>\n",
       "    </tr>\n",
       "    <tr>\n",
       "      <th>D</th>\n",
       "      <td>-0.892234</td>\n",
       "      <td>-0.288553</td>\n",
       "      <td>-1.024561</td>\n",
       "      <td>0.386833</td>\n",
       "      <td>-0.374927</td>\n",
       "    </tr>\n",
       "    <tr>\n",
       "      <th>E</th>\n",
       "      <td>1.528174</td>\n",
       "      <td>-1.168257</td>\n",
       "      <td>-1.733056</td>\n",
       "      <td>-1.491013</td>\n",
       "      <td>-2.502697</td>\n",
       "    </tr>\n",
       "    <tr>\n",
       "      <th>F</th>\n",
       "      <td>0.157519</td>\n",
       "      <td>1.403284</td>\n",
       "      <td>-0.649773</td>\n",
       "      <td>1.003569</td>\n",
       "      <td>-0.266126</td>\n",
       "    </tr>\n",
       "  </tbody>\n",
       "</table>\n",
       "</div>"
      ],
      "text/plain": [
       "       col1      col2      col3      col4      col5\n",
       "A -0.496062  1.000992 -0.628704  0.312250 -1.160339\n",
       "B -0.706905 -0.368314  1.753851  1.678624 -0.616465\n",
       "C       NaN       NaN       NaN       NaN       NaN\n",
       "D -0.892234 -0.288553 -1.024561  0.386833 -0.374927\n",
       "E  1.528174 -1.168257 -1.733056 -1.491013 -2.502697\n",
       "F  0.157519  1.403284 -0.649773  1.003569 -0.266126"
      ]
     },
     "execution_count": 29,
     "metadata": {},
     "output_type": "execute_result"
    }
   ],
   "source": [
    "dframe2 = dframe.reindex([\"A\", \"B\", \"C\", \"D\", \"E\", \"F\"])\n",
    "dframe2"
   ]
  },
  {
   "cell_type": "code",
   "execution_count": 31,
   "id": "4ba96acf-a084-4401-ad14-6051b2c962d2",
   "metadata": {},
   "outputs": [],
   "source": [
    "new_columns = [\"col1\", \"col2\", \"col3\", \"col4\", \"col5\", \"col6\"]"
   ]
  },
  {
   "cell_type": "code",
   "execution_count": 33,
   "id": "47654d15-35a7-4b04-bdf5-f4259fceb300",
   "metadata": {},
   "outputs": [
    {
     "data": {
      "text/html": [
       "<div>\n",
       "<style scoped>\n",
       "    .dataframe tbody tr th:only-of-type {\n",
       "        vertical-align: middle;\n",
       "    }\n",
       "\n",
       "    .dataframe tbody tr th {\n",
       "        vertical-align: top;\n",
       "    }\n",
       "\n",
       "    .dataframe thead th {\n",
       "        text-align: right;\n",
       "    }\n",
       "</style>\n",
       "<table border=\"1\" class=\"dataframe\">\n",
       "  <thead>\n",
       "    <tr style=\"text-align: right;\">\n",
       "      <th></th>\n",
       "      <th>col1</th>\n",
       "      <th>col2</th>\n",
       "      <th>col3</th>\n",
       "      <th>col4</th>\n",
       "      <th>col5</th>\n",
       "      <th>col6</th>\n",
       "    </tr>\n",
       "  </thead>\n",
       "  <tbody>\n",
       "    <tr>\n",
       "      <th>A</th>\n",
       "      <td>-0.496062</td>\n",
       "      <td>1.000992</td>\n",
       "      <td>-0.628704</td>\n",
       "      <td>0.312250</td>\n",
       "      <td>-1.160339</td>\n",
       "      <td>NaN</td>\n",
       "    </tr>\n",
       "    <tr>\n",
       "      <th>B</th>\n",
       "      <td>-0.706905</td>\n",
       "      <td>-0.368314</td>\n",
       "      <td>1.753851</td>\n",
       "      <td>1.678624</td>\n",
       "      <td>-0.616465</td>\n",
       "      <td>NaN</td>\n",
       "    </tr>\n",
       "    <tr>\n",
       "      <th>C</th>\n",
       "      <td>NaN</td>\n",
       "      <td>NaN</td>\n",
       "      <td>NaN</td>\n",
       "      <td>NaN</td>\n",
       "      <td>NaN</td>\n",
       "      <td>NaN</td>\n",
       "    </tr>\n",
       "    <tr>\n",
       "      <th>D</th>\n",
       "      <td>-0.892234</td>\n",
       "      <td>-0.288553</td>\n",
       "      <td>-1.024561</td>\n",
       "      <td>0.386833</td>\n",
       "      <td>-0.374927</td>\n",
       "      <td>NaN</td>\n",
       "    </tr>\n",
       "    <tr>\n",
       "      <th>E</th>\n",
       "      <td>1.528174</td>\n",
       "      <td>-1.168257</td>\n",
       "      <td>-1.733056</td>\n",
       "      <td>-1.491013</td>\n",
       "      <td>-2.502697</td>\n",
       "      <td>NaN</td>\n",
       "    </tr>\n",
       "    <tr>\n",
       "      <th>F</th>\n",
       "      <td>0.157519</td>\n",
       "      <td>1.403284</td>\n",
       "      <td>-0.649773</td>\n",
       "      <td>1.003569</td>\n",
       "      <td>-0.266126</td>\n",
       "      <td>NaN</td>\n",
       "    </tr>\n",
       "  </tbody>\n",
       "</table>\n",
       "</div>"
      ],
      "text/plain": [
       "       col1      col2      col3      col4      col5  col6\n",
       "A -0.496062  1.000992 -0.628704  0.312250 -1.160339   NaN\n",
       "B -0.706905 -0.368314  1.753851  1.678624 -0.616465   NaN\n",
       "C       NaN       NaN       NaN       NaN       NaN   NaN\n",
       "D -0.892234 -0.288553 -1.024561  0.386833 -0.374927   NaN\n",
       "E  1.528174 -1.168257 -1.733056 -1.491013 -2.502697   NaN\n",
       "F  0.157519  1.403284 -0.649773  1.003569 -0.266126   NaN"
      ]
     },
     "execution_count": 33,
     "metadata": {},
     "output_type": "execute_result"
    }
   ],
   "source": [
    "dframe2.reindex(columns = new_columns)"
   ]
  },
  {
   "cell_type": "code",
   "execution_count": 35,
   "id": "05e0423e-7557-443f-a600-3200d5ce2004",
   "metadata": {},
   "outputs": [
    {
     "data": {
      "text/html": [
       "<div>\n",
       "<style scoped>\n",
       "    .dataframe tbody tr th:only-of-type {\n",
       "        vertical-align: middle;\n",
       "    }\n",
       "\n",
       "    .dataframe tbody tr th {\n",
       "        vertical-align: top;\n",
       "    }\n",
       "\n",
       "    .dataframe thead th {\n",
       "        text-align: right;\n",
       "    }\n",
       "</style>\n",
       "<table border=\"1\" class=\"dataframe\">\n",
       "  <thead>\n",
       "    <tr style=\"text-align: right;\">\n",
       "      <th></th>\n",
       "      <th>col1</th>\n",
       "      <th>col2</th>\n",
       "      <th>col3</th>\n",
       "      <th>col4</th>\n",
       "      <th>col5</th>\n",
       "    </tr>\n",
       "  </thead>\n",
       "  <tbody>\n",
       "    <tr>\n",
       "      <th>A</th>\n",
       "      <td>-0.496062</td>\n",
       "      <td>1.000992</td>\n",
       "      <td>-0.628704</td>\n",
       "      <td>0.312250</td>\n",
       "      <td>-1.160339</td>\n",
       "    </tr>\n",
       "    <tr>\n",
       "      <th>B</th>\n",
       "      <td>-0.706905</td>\n",
       "      <td>-0.368314</td>\n",
       "      <td>1.753851</td>\n",
       "      <td>1.678624</td>\n",
       "      <td>-0.616465</td>\n",
       "    </tr>\n",
       "    <tr>\n",
       "      <th>D</th>\n",
       "      <td>-0.892234</td>\n",
       "      <td>-0.288553</td>\n",
       "      <td>-1.024561</td>\n",
       "      <td>0.386833</td>\n",
       "      <td>-0.374927</td>\n",
       "    </tr>\n",
       "    <tr>\n",
       "      <th>E</th>\n",
       "      <td>1.528174</td>\n",
       "      <td>-1.168257</td>\n",
       "      <td>-1.733056</td>\n",
       "      <td>-1.491013</td>\n",
       "      <td>-2.502697</td>\n",
       "    </tr>\n",
       "    <tr>\n",
       "      <th>F</th>\n",
       "      <td>0.157519</td>\n",
       "      <td>1.403284</td>\n",
       "      <td>-0.649773</td>\n",
       "      <td>1.003569</td>\n",
       "      <td>-0.266126</td>\n",
       "    </tr>\n",
       "  </tbody>\n",
       "</table>\n",
       "</div>"
      ],
      "text/plain": [
       "       col1      col2      col3      col4      col5\n",
       "A -0.496062  1.000992 -0.628704  0.312250 -1.160339\n",
       "B -0.706905 -0.368314  1.753851  1.678624 -0.616465\n",
       "D -0.892234 -0.288553 -1.024561  0.386833 -0.374927\n",
       "E  1.528174 -1.168257 -1.733056 -1.491013 -2.502697\n",
       "F  0.157519  1.403284 -0.649773  1.003569 -0.266126"
      ]
     },
     "execution_count": 35,
     "metadata": {},
     "output_type": "execute_result"
    }
   ],
   "source": [
    "dframe"
   ]
  },
  {
   "cell_type": "code",
   "execution_count": 53,
   "id": "89aa2d96-a187-4271-82da-36fafd68e891",
   "metadata": {},
   "outputs": [
    {
     "data": {
      "text/html": [
       "<div>\n",
       "<style scoped>\n",
       "    .dataframe tbody tr th:only-of-type {\n",
       "        vertical-align: middle;\n",
       "    }\n",
       "\n",
       "    .dataframe tbody tr th {\n",
       "        vertical-align: top;\n",
       "    }\n",
       "\n",
       "    .dataframe thead th {\n",
       "        text-align: right;\n",
       "    }\n",
       "</style>\n",
       "<table border=\"1\" class=\"dataframe\">\n",
       "  <thead>\n",
       "    <tr style=\"text-align: right;\">\n",
       "      <th></th>\n",
       "      <th>col1</th>\n",
       "      <th>col2</th>\n",
       "      <th>col3</th>\n",
       "      <th>col4</th>\n",
       "      <th>col5</th>\n",
       "      <th>col6</th>\n",
       "    </tr>\n",
       "  </thead>\n",
       "  <tbody>\n",
       "    <tr>\n",
       "      <th>A</th>\n",
       "      <td>-0.496062</td>\n",
       "      <td>1.000992</td>\n",
       "      <td>-0.628704</td>\n",
       "      <td>0.312250</td>\n",
       "      <td>-1.160339</td>\n",
       "      <td>NaN</td>\n",
       "    </tr>\n",
       "    <tr>\n",
       "      <th>B</th>\n",
       "      <td>-0.706905</td>\n",
       "      <td>-0.368314</td>\n",
       "      <td>1.753851</td>\n",
       "      <td>1.678624</td>\n",
       "      <td>-0.616465</td>\n",
       "      <td>NaN</td>\n",
       "    </tr>\n",
       "    <tr>\n",
       "      <th>C</th>\n",
       "      <td>NaN</td>\n",
       "      <td>NaN</td>\n",
       "      <td>NaN</td>\n",
       "      <td>NaN</td>\n",
       "      <td>NaN</td>\n",
       "      <td>NaN</td>\n",
       "    </tr>\n",
       "    <tr>\n",
       "      <th>D</th>\n",
       "      <td>-0.892234</td>\n",
       "      <td>-0.288553</td>\n",
       "      <td>-1.024561</td>\n",
       "      <td>0.386833</td>\n",
       "      <td>-0.374927</td>\n",
       "      <td>NaN</td>\n",
       "    </tr>\n",
       "    <tr>\n",
       "      <th>E</th>\n",
       "      <td>1.528174</td>\n",
       "      <td>-1.168257</td>\n",
       "      <td>-1.733056</td>\n",
       "      <td>-1.491013</td>\n",
       "      <td>-2.502697</td>\n",
       "      <td>NaN</td>\n",
       "    </tr>\n",
       "    <tr>\n",
       "      <th>F</th>\n",
       "      <td>0.157519</td>\n",
       "      <td>1.403284</td>\n",
       "      <td>-0.649773</td>\n",
       "      <td>1.003569</td>\n",
       "      <td>-0.266126</td>\n",
       "      <td>NaN</td>\n",
       "    </tr>\n",
       "  </tbody>\n",
       "</table>\n",
       "</div>"
      ],
      "text/plain": [
       "       col1      col2      col3      col4      col5  col6\n",
       "A -0.496062  1.000992 -0.628704  0.312250 -1.160339   NaN\n",
       "B -0.706905 -0.368314  1.753851  1.678624 -0.616465   NaN\n",
       "C       NaN       NaN       NaN       NaN       NaN   NaN\n",
       "D -0.892234 -0.288553 -1.024561  0.386833 -0.374927   NaN\n",
       "E  1.528174 -1.168257 -1.733056 -1.491013 -2.502697   NaN\n",
       "F  0.157519  1.403284 -0.649773  1.003569 -0.266126   NaN"
      ]
     },
     "execution_count": 53,
     "metadata": {},
     "output_type": "execute_result"
    }
   ],
   "source": [
    "dframe.reindex(index = [\"A\", \"B\", \"C\", \"D\", \"E\", \"F\"], columns = new_columns)"
   ]
  },
  {
   "cell_type": "code",
   "execution_count": null,
   "id": "5f503bf3-9e6d-4652-9a89-25713341bb52",
   "metadata": {},
   "outputs": [],
   "source": []
  }
 ],
 "metadata": {
  "kernelspec": {
   "display_name": "Python [conda env:base] *",
   "language": "python",
   "name": "conda-base-py"
  },
  "language_info": {
   "codemirror_mode": {
    "name": "ipython",
    "version": 3
   },
   "file_extension": ".py",
   "mimetype": "text/x-python",
   "name": "python",
   "nbconvert_exporter": "python",
   "pygments_lexer": "ipython3",
   "version": "3.12.7"
  }
 },
 "nbformat": 4,
 "nbformat_minor": 5
}
