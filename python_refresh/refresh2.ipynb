{
 "cells": [
  {
   "cell_type": "code",
   "execution_count": 1,
   "id": "93ae7613-7438-417a-90bb-0d753cd34d7c",
   "metadata": {},
   "outputs": [],
   "source": [
    "cities =[\"NY\", \"LA\", \"SF\"]"
   ]
  },
  {
   "cell_type": "code",
   "execution_count": 3,
   "id": "42b46473-88e1-460d-a2ce-c192c4ede3e8",
   "metadata": {},
   "outputs": [
    {
     "name": "stdout",
     "output_type": "stream",
     "text": [
      "NY\n",
      "LA\n",
      "SF\n"
     ]
    }
   ],
   "source": [
    "for city in cities:\n",
    "    print(city)"
   ]
  },
  {
   "cell_type": "code",
   "execution_count": 11,
   "id": "80d40693-948b-4c7d-8bfd-5f8f3eb6f45f",
   "metadata": {},
   "outputs": [
    {
     "name": "stdout",
     "output_type": "stream",
     "text": [
      "I love NY\n",
      "I love LA\n",
      "I love SF\n"
     ]
    }
   ],
   "source": [
    "for city in cities:\n",
    "    phrase = \"I love \" + city\n",
    "    print(phrase)"
   ]
  },
  {
   "cell_type": "code",
   "execution_count": 15,
   "id": "78db00e3-ff68-4d43-8a8d-74a06078fcb4",
   "metadata": {},
   "outputs": [
    {
     "name": "stdout",
     "output_type": "stream",
     "text": [
      "0\n",
      "1\n",
      "2\n",
      "3\n",
      "4\n",
      "5\n",
      "6\n",
      "7\n",
      "8\n",
      "9\n"
     ]
    }
   ],
   "source": [
    "for n in range(10):\n",
    "    print(n)"
   ]
  },
  {
   "cell_type": "code",
   "execution_count": 19,
   "id": "328800d4-621b-4389-b26e-77f8161138a6",
   "metadata": {},
   "outputs": [
    {
     "name": "stdout",
     "output_type": "stream",
     "text": [
      "The inverse of  1 is  1.0\n",
      "The inverse of  2 is  0.5\n",
      "The inverse of  3 is  0.3333333333333333\n",
      "The inverse of  4 is  0.25\n",
      "The inverse of  5 is  0.2\n",
      "The inverse of  6 is  0.16666666666666666\n",
      "The inverse of  7 is  0.14285714285714285\n",
      "The inverse of  8 is  0.125\n",
      "The inverse of  9 is  0.1111111111111111\n"
     ]
    }
   ],
   "source": [
    "for n in range(1, 10):\n",
    "    print(\"The inverse of \", n, \"is \", 1/n)"
   ]
  },
  {
   "cell_type": "code",
   "execution_count": 23,
   "id": "311a9328-69aa-46c6-ad9f-3d46e295eb78",
   "metadata": {},
   "outputs": [
    {
     "name": "stdout",
     "output_type": "stream",
     "text": [
      "h\n",
      "e\n",
      "l\n",
      "l\n",
      "o\n"
     ]
    }
   ],
   "source": [
    "for letter in \"hello\":\n",
    "    print(letter)"
   ]
  },
  {
   "cell_type": "code",
   "execution_count": 25,
   "id": "0ac27d6c-9341-4004-85a1-7066ed79ec6f",
   "metadata": {},
   "outputs": [
    {
     "data": {
      "text/plain": [
       "'NY'"
      ]
     },
     "execution_count": 25,
     "metadata": {},
     "output_type": "execute_result"
    }
   ],
   "source": [
    "cities[0]"
   ]
  },
  {
   "cell_type": "code",
   "execution_count": 35,
   "id": "ba0bdf2f-876c-4104-b36a-a7b4e6bc6792",
   "metadata": {},
   "outputs": [
    {
     "data": {
      "text/plain": [
       "False"
      ]
     },
     "execution_count": 35,
     "metadata": {},
     "output_type": "execute_result"
    }
   ],
   "source": [
    "1 == 2"
   ]
  },
  {
   "cell_type": "code",
   "execution_count": 37,
   "id": "1bc5e3e8-3c49-4689-8352-ddd109886789",
   "metadata": {},
   "outputs": [
    {
     "data": {
      "text/plain": [
       "True"
      ]
     },
     "execution_count": 37,
     "metadata": {},
     "output_type": "execute_result"
    }
   ],
   "source": [
    "1 == 1"
   ]
  },
  {
   "cell_type": "code",
   "execution_count": 39,
   "id": "8f22c8cd-7829-44bf-8916-caadf523aa0a",
   "metadata": {},
   "outputs": [
    {
     "data": {
      "text/plain": [
       "False"
      ]
     },
     "execution_count": 39,
     "metadata": {},
     "output_type": "execute_result"
    }
   ],
   "source": [
    "3 > 4"
   ]
  },
  {
   "cell_type": "code",
   "execution_count": 41,
   "id": "f2f70996-b4bc-440c-8a94-63700a288e5a",
   "metadata": {},
   "outputs": [
    {
     "data": {
      "text/plain": [
       "True"
      ]
     },
     "execution_count": 41,
     "metadata": {},
     "output_type": "execute_result"
    }
   ],
   "source": [
    "4 < 5"
   ]
  },
  {
   "cell_type": "code",
   "execution_count": 45,
   "id": "fe9f5d38-3883-43c9-8009-cc8e77c43e6a",
   "metadata": {},
   "outputs": [
    {
     "data": {
      "text/plain": [
       "False"
      ]
     },
     "execution_count": 45,
     "metadata": {},
     "output_type": "execute_result"
    }
   ],
   "source": [
    "1 >= 2"
   ]
  },
  {
   "cell_type": "code",
   "execution_count": 43,
   "id": "0c437454-d93a-429b-ab7f-10c81660476d",
   "metadata": {},
   "outputs": [
    {
     "data": {
      "text/plain": [
       "True"
      ]
     },
     "execution_count": 43,
     "metadata": {},
     "output_type": "execute_result"
    }
   ],
   "source": [
    "1 != 2"
   ]
  },
  {
   "cell_type": "code",
   "execution_count": 29,
   "id": "cf9b46ce-5972-484b-8a4b-028221f29b7d",
   "metadata": {},
   "outputs": [
    {
     "data": {
      "text/plain": [
       "'SF'"
      ]
     },
     "execution_count": 29,
     "metadata": {},
     "output_type": "execute_result"
    }
   ],
   "source": [
    "city"
   ]
  },
  {
   "cell_type": "code",
   "execution_count": 31,
   "id": "db530879-26fd-4fb0-a23a-e702ed8535f1",
   "metadata": {},
   "outputs": [],
   "source": [
    "city = 'NY'"
   ]
  },
  {
   "cell_type": "code",
   "execution_count": 33,
   "id": "275b620c-e578-4367-a68b-74b30efdb7dd",
   "metadata": {},
   "outputs": [
    {
     "name": "stdout",
     "output_type": "stream",
     "text": [
      "Party!\n"
     ]
    }
   ],
   "source": [
    "if city == 'NY':\n",
    "    print(\"Party!\")\n",
    "else:\n",
    "    print(\"Work\")"
   ]
  },
  {
   "cell_type": "code",
   "execution_count": 47,
   "id": "87025d3a-7577-4fa1-9f38-c970cc0cc11e",
   "metadata": {},
   "outputs": [
    {
     "data": {
      "text/plain": [
       "True"
      ]
     },
     "execution_count": 47,
     "metadata": {},
     "output_type": "execute_result"
    }
   ],
   "source": [
    "[1, 1, 1] == [1, 1, 1]"
   ]
  },
  {
   "cell_type": "code",
   "execution_count": 49,
   "id": "a1f0b62c-e5e1-4009-9483-32bf7ca3b036",
   "metadata": {},
   "outputs": [
    {
     "data": {
      "text/plain": [
       "False"
      ]
     },
     "execution_count": 49,
     "metadata": {},
     "output_type": "execute_result"
    }
   ],
   "source": [
    "[1, 1, 1] == [1, 1, 2]"
   ]
  },
  {
   "cell_type": "code",
   "execution_count": null,
   "id": "beb8a5ce-df6c-4b4a-a5cf-98f9b9c70a24",
   "metadata": {},
   "outputs": [],
   "source": []
  }
 ],
 "metadata": {
  "kernelspec": {
   "display_name": "Python [conda env:base] *",
   "language": "python",
   "name": "conda-base-py"
  },
  "language_info": {
   "codemirror_mode": {
    "name": "ipython",
    "version": 3
   },
   "file_extension": ".py",
   "mimetype": "text/x-python",
   "name": "python",
   "nbconvert_exporter": "python",
   "pygments_lexer": "ipython3",
   "version": "3.12.7"
  }
 },
 "nbformat": 4,
 "nbformat_minor": 5
}
