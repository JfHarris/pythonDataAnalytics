{
 "cells": [
  {
   "cell_type": "code",
   "execution_count": 3,
   "id": "6fee4b94-f602-4f76-90fc-a39144e54ae7",
   "metadata": {},
   "outputs": [],
   "source": [
    "cities = [\"NY\", \"LA\", \"SF\"]"
   ]
  },
  {
   "cell_type": "code",
   "execution_count": 5,
   "id": "232fe509-4ca0-40f1-bb58-06cdb0803bc7",
   "metadata": {},
   "outputs": [
    {
     "data": {
      "text/plain": [
       "'NY'"
      ]
     },
     "execution_count": 5,
     "metadata": {},
     "output_type": "execute_result"
    }
   ],
   "source": [
    "city = cities[0]\n",
    "city"
   ]
  },
  {
   "cell_type": "code",
   "execution_count": 13,
   "id": "aefbd0a1-3f73-4ac2-a3c4-fb4f3cab1d74",
   "metadata": {},
   "outputs": [
    {
     "name": "stdout",
     "output_type": "stream",
     "text": [
      "Party\n",
      "it's hot\n",
      "Where am I?\n"
     ]
    }
   ],
   "source": [
    "for city in cities: \n",
    "    if city == \"NY\":\n",
    "        print(\"Party\")\n",
    "    elif city == \"LA\":\n",
    "        print(\"it's hot\")\n",
    "    else:\n",
    "        print(\"Where am I?\")"
   ]
  },
  {
   "cell_type": "code",
   "execution_count": 19,
   "id": "263b45e1-6830-48d1-81fd-04d5bbb82c63",
   "metadata": {},
   "outputs": [
    {
     "data": {
      "text/plain": [
       "(1, 2, 3)"
      ]
     },
     "execution_count": 19,
     "metadata": {},
     "output_type": "execute_result"
    }
   ],
   "source": [
    "t = (1, 2, 3)\n",
    "t"
   ]
  },
  {
   "cell_type": "code",
   "execution_count": 21,
   "id": "a53e1df6-1e70-4d90-9082-f79324a6cc1f",
   "metadata": {},
   "outputs": [],
   "source": [
    "my_list = [1, 2, 3]"
   ]
  },
  {
   "cell_type": "code",
   "execution_count": 23,
   "id": "7ffbf6ea-8e4f-4543-b0f0-8b9c72899cbb",
   "metadata": {},
   "outputs": [],
   "source": [
    "my_dict = {\"Joe\": 22, \"Mike\": 12}"
   ]
  },
  {
   "cell_type": "code",
   "execution_count": 27,
   "id": "9205982c-9347-4400-85b4-4be45e50a1c0",
   "metadata": {},
   "outputs": [
    {
     "data": {
      "text/plain": [
       "22"
      ]
     },
     "execution_count": 27,
     "metadata": {},
     "output_type": "execute_result"
    }
   ],
   "source": [
    "my_dict[\"Joe\"]"
   ]
  },
  {
   "cell_type": "code",
   "execution_count": 29,
   "id": "6755415f-401c-45bc-8853-196695f6082f",
   "metadata": {},
   "outputs": [
    {
     "data": {
      "text/plain": [
       "2"
      ]
     },
     "execution_count": 29,
     "metadata": {},
     "output_type": "execute_result"
    }
   ],
   "source": [
    "len(my_dict)"
   ]
  },
  {
   "cell_type": "code",
   "execution_count": 31,
   "id": "cb2b883f-bee2-44e5-9d74-8fdd369a57b4",
   "metadata": {},
   "outputs": [],
   "source": [
    "def adder(x, y):\n",
    "    \"\"\"adding args\"\"\"\n",
    "    answer = x + y\n",
    "    return answer"
   ]
  },
  {
   "cell_type": "code",
   "execution_count": 33,
   "id": "145cd35a-ec40-49e9-a40b-52bfa2171100",
   "metadata": {},
   "outputs": [
    {
     "data": {
      "text/plain": [
       "15"
      ]
     },
     "execution_count": 33,
     "metadata": {},
     "output_type": "execute_result"
    }
   ],
   "source": [
    "adder(5, 10)"
   ]
  }
 ],
 "metadata": {
  "kernelspec": {
   "display_name": "Python [conda env:base] *",
   "language": "python",
   "name": "conda-base-py"
  },
  "language_info": {
   "codemirror_mode": {
    "name": "ipython",
    "version": 3
   },
   "file_extension": ".py",
   "mimetype": "text/x-python",
   "name": "python",
   "nbconvert_exporter": "python",
   "pygments_lexer": "ipython3",
   "version": "3.12.7"
  }
 },
 "nbformat": 4,
 "nbformat_minor": 5
}
