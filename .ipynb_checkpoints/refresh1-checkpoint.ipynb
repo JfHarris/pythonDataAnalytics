{
 "cells": [
  {
   "cell_type": "code",
   "execution_count": 51,
   "id": "8d8c1746-947b-4804-8462-4e6919318565",
   "metadata": {},
   "outputs": [
    {
     "data": {
      "text/plain": [
       "6"
      ]
     },
     "execution_count": 51,
     "metadata": {},
     "output_type": "execute_result"
    }
   ],
   "source": [
    "3+3"
   ]
  },
  {
   "cell_type": "code",
   "execution_count": 58,
   "id": "4f211b92-3307-46e4-a56a-6a872cb1c1b6",
   "metadata": {},
   "outputs": [
    {
     "data": {
      "text/plain": [
       "10"
      ]
     },
     "execution_count": 58,
     "metadata": {},
     "output_type": "execute_result"
    }
   ],
   "source": [
    "5 * 2"
   ]
  },
  {
   "cell_type": "code",
   "execution_count": 1,
   "id": "0974f4b5-a3a8-4353-98b8-92c601655dd1",
   "metadata": {},
   "outputs": [
    {
     "data": {
      "text/plain": [
       "0.8333333333333334"
      ]
     },
     "execution_count": 1,
     "metadata": {},
     "output_type": "execute_result"
    }
   ],
   "source": [
    "5/6"
   ]
  },
  {
   "cell_type": "code",
   "execution_count": 56,
   "id": "16c3ae73-ae4e-4058-99bf-4b306d7f0710",
   "metadata": {},
   "outputs": [
    {
     "data": {
      "text/plain": [
       "16"
      ]
     },
     "execution_count": 56,
     "metadata": {},
     "output_type": "execute_result"
    }
   ],
   "source": [
    "4**2"
   ]
  },
  {
   "cell_type": "code",
   "execution_count": 62,
   "id": "f5b6b4e5-6964-4baf-a5e8-ed81c07afe5c",
   "metadata": {},
   "outputs": [
    {
     "data": {
      "text/plain": [
       "3.0"
      ]
     },
     "execution_count": 62,
     "metadata": {},
     "output_type": "execute_result"
    }
   ],
   "source": [
    "import math\n",
    "math.sqrt(9)"
   ]
  },
  {
   "cell_type": "code",
   "execution_count": 3,
   "id": "bbb26523-d9e5-401e-acca-56d82588c07c",
   "metadata": {},
   "outputs": [
    {
     "data": {
      "text/plain": [
       "10"
      ]
     },
     "execution_count": 3,
     "metadata": {},
     "output_type": "execute_result"
    }
   ],
   "source": [
    "volume = 10\n",
    "volume"
   ]
  },
  {
   "cell_type": "code",
   "execution_count": 5,
   "id": "1398f1bd-9e8f-4fa5-8710-22dcd54827ff",
   "metadata": {},
   "outputs": [
    {
     "name": "stdout",
     "output_type": "stream",
     "text": [
      "My volume is  10\n"
     ]
    }
   ],
   "source": [
    "print(\"My volume is \", volume)"
   ]
  },
  {
   "cell_type": "code",
   "execution_count": 7,
   "id": "b78a9c72-7651-47c0-970e-3177e00d4555",
   "metadata": {},
   "outputs": [],
   "source": [
    "phrase = \"hello\" + \"world\""
   ]
  },
  {
   "cell_type": "code",
   "execution_count": 9,
   "id": "19a348e4-426f-4736-8c97-458c84c45335",
   "metadata": {},
   "outputs": [
    {
     "data": {
      "text/plain": [
       "'helloworld'"
      ]
     },
     "execution_count": 9,
     "metadata": {},
     "output_type": "execute_result"
    }
   ],
   "source": [
    "phrase"
   ]
  },
  {
   "cell_type": "code",
   "execution_count": 11,
   "id": "64b92315-6430-4b2f-9c51-a3e0cd39876d",
   "metadata": {},
   "outputs": [],
   "source": [
    "cities = [\"NYC\", \"LA\", \"SF\"]"
   ]
  },
  {
   "cell_type": "code",
   "execution_count": 21,
   "id": "77c68cf7-2443-45ed-9698-66517bc08008",
   "metadata": {},
   "outputs": [
    {
     "data": {
      "text/plain": [
       "['NYC', 'LA', 'SF', 'CHI']"
      ]
     },
     "execution_count": 21,
     "metadata": {},
     "output_type": "execute_result"
    }
   ],
   "source": [
    "cities"
   ]
  },
  {
   "cell_type": "code",
   "execution_count": 15,
   "id": "513da6a3-f41e-4f9a-8919-fddcab3b1c83",
   "metadata": {},
   "outputs": [
    {
     "data": {
      "text/plain": [
       "'NYC'"
      ]
     },
     "execution_count": 15,
     "metadata": {},
     "output_type": "execute_result"
    }
   ],
   "source": [
    "cities[0]"
   ]
  },
  {
   "cell_type": "code",
   "execution_count": 17,
   "id": "10977238-a9dd-48f9-9f00-b6f6602ef677",
   "metadata": {},
   "outputs": [
    {
     "data": {
      "text/plain": [
       "'SF'"
      ]
     },
     "execution_count": 17,
     "metadata": {},
     "output_type": "execute_result"
    }
   ],
   "source": [
    "cities[-1]"
   ]
  },
  {
   "cell_type": "code",
   "execution_count": 19,
   "id": "6d9f7f30-8328-44ec-9c36-9008c5066ae7",
   "metadata": {},
   "outputs": [],
   "source": [
    "cities.append(\"CHI\")"
   ]
  },
  {
   "cell_type": "code",
   "execution_count": 25,
   "id": "f60dd8a5-50e6-4461-b77b-5493fb679886",
   "metadata": {},
   "outputs": [],
   "source": [
    "x = range(10)"
   ]
  },
  {
   "cell_type": "code",
   "execution_count": 33,
   "id": "5db1d40c-ccab-44df-b052-5aa33ec39868",
   "metadata": {},
   "outputs": [
    {
     "name": "stdout",
     "output_type": "stream",
     "text": [
      "0\n",
      "1\n",
      "2\n",
      "3\n",
      "4\n",
      "5\n",
      "6\n",
      "7\n",
      "8\n",
      "9\n"
     ]
    }
   ],
   "source": [
    "for n in x:\n",
    "    print(n)"
   ]
  },
  {
   "cell_type": "code",
   "execution_count": 39,
   "id": "49ae37ac-99af-4b43-9159-4dc97211c667",
   "metadata": {},
   "outputs": [
    {
     "name": "stdout",
     "output_type": "stream",
     "text": [
      "3\n",
      "4\n",
      "5\n",
      "6\n"
     ]
    }
   ],
   "source": [
    "y = range(3, 7)\n",
    "for n in y:\n",
    "    print(n)"
   ]
  },
  {
   "cell_type": "code",
   "execution_count": 43,
   "id": "d0f28c6b-d510-45e6-a0a3-955163c59c41",
   "metadata": {},
   "outputs": [
    {
     "name": "stdout",
     "output_type": "stream",
     "text": [
      "0\n",
      "2\n",
      "4\n",
      "6\n",
      "8\n",
      "10\n",
      "12\n",
      "14\n",
      "16\n",
      "18\n"
     ]
    }
   ],
   "source": [
    "z = range(0, 20, 2)\n",
    "for n in z:\n",
    "    print(n)"
   ]
  },
  {
   "cell_type": "code",
   "execution_count": 47,
   "id": "87432d97-bbee-467f-b1d4-fc1b9e387a4d",
   "metadata": {},
   "outputs": [
    {
     "name": "stdout",
     "output_type": "stream",
     "text": [
      "['hello', 76, 'today', 4.3]\n"
     ]
    }
   ],
   "source": [
    "random_list = [\"hello\", 76, \"today\", 4.3]\n",
    "print(random_list)"
   ]
  },
  {
   "cell_type": "code",
   "execution_count": 49,
   "id": "b817fea4-62b0-468b-93bb-d5f2be715d28",
   "metadata": {},
   "outputs": [
    {
     "data": {
      "text/plain": [
       "4"
      ]
     },
     "execution_count": 49,
     "metadata": {},
     "output_type": "execute_result"
    }
   ],
   "source": [
    "len(random_list)"
   ]
  }
 ],
 "metadata": {
  "kernelspec": {
   "display_name": "Python [conda env:base] *",
   "language": "python",
   "name": "conda-base-py"
  },
  "language_info": {
   "codemirror_mode": {
    "name": "ipython",
    "version": 3
   },
   "file_extension": ".py",
   "mimetype": "text/x-python",
   "name": "python",
   "nbconvert_exporter": "python",
   "pygments_lexer": "ipython3",
   "version": "3.12.7"
  }
 },
 "nbformat": 4,
 "nbformat_minor": 5
}
